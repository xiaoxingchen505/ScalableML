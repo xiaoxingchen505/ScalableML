{
 "cells": [
  {
   "cell_type": "markdown",
   "metadata": {},
   "source": [
    "# COM6012 Scalable Machine Learning 2019 - Haiping Lu\n",
    "# Lab 3: Matrix factorisation for collaborative filtering recommender systems\n",
    "\n",
    "## Objectives\n",
    "\n",
    "* Task 1: To finish in the lab session. **Essential**\n",
    "* Task 2: To finish in the lab session. **Essential**\n",
    "* Task 3: To explore by yourself. **Optional but recommended**\n",
    "\n",
    "**Suggested reading**: \n",
    "* [Collaborative Filtering in Spark](https://spark.apache.org/docs/2.3.2/ml-collaborative-filtering.html)\n",
    "* [DataBricks movie recommendations tutorial](https://github.com/databricks/spark-training/blob/master/website/movie-recommendation-with-mllib.md![image.png](attachment:image.png)). [**DataBricks**](https://en.wikipedia.org/wiki/Databricks) is a company founded by the creators of Apache Spark, checking out their latest packages at [their GitHub page](https://github.com/databricks), e.g., [integration with Scikit-learn](https://github.com/databricks/spark-sklearn), [Deep Learning Pipelines for Apache Spark including TensorFlow](https://github.com/databricks/spark-deep-learning)\n",
    "* [Collaborative Filtering on Wiki](http://en.wikipedia.org/wiki/Recommender_system#Collaborative_filtering)\n",
    "* [Python API on ALS for recommender system](https://spark.apache.org/docs/2.3.2/api/python/pyspark.ml.html#pyspark.ml.recommendation.ALS)\n",
    "* Chapter 15 (particularly Section 15.3.2) of [PySpark tutorial](https://runawayhorse001.github.io/LearningApacheSpark/pyspark.pdf) \n",
    "\n",
    "[**Learn PySpark APIs via Pictures**](https://github.com/jkthompson/pyspark-pictures) (**from recommended/discover repositories** in GitHub, i.e., found via **recommender systems**!)"
   ]
  },
  {
   "cell_type": "markdown",
   "metadata": {},
   "source": [
    "https://github.com/haipinglu/ScalableML/"
   ]
  },
  {
   "cell_type": "markdown",
   "metadata": {},
   "source": [
    "If running this notebook on HPC via [Jupyter Hub](https://jupyter-sharc.shef.ac.uk/), we need to run the following cell. If we are running this notebook on our local machine, skip the following cell."
   ]
  },
  {
   "cell_type": "code",
   "execution_count": null,
   "metadata": {},
   "outputs": [],
   "source": [
    "import os\n",
    "import subprocess\n",
    "def module(*args):        \n",
    "    if isinstance(args[0], list):        \n",
    "        args = args[0]        \n",
    "    else:        \n",
    "        args = list(args)        \n",
    "    (output, error) = subprocess.Popen(['/usr/bin/modulecmd', 'python'] + args, stdout=subprocess.PIPE).communicate()\n",
    "    exec(output)    \n",
    "module('load', 'apps/java/jdk1.8.0_102/binary')    \n",
    "os.environ['PYSPARK_PYTHON'] = os.environ['HOME'] + '/.conda/envs/jupyter-spark/bin/python'"
   ]
  },
  {
   "cell_type": "markdown",
   "metadata": {},
   "source": [
    "## 1. Movie recommendation via collaborative filtering\n",
    "\n"
   ]
  },
  {
   "cell_type": "markdown",
   "metadata": {},
   "source": [
    "Basic setup unless using shell"
   ]
  },
  {
   "cell_type": "code",
   "execution_count": 1,
   "metadata": {},
   "outputs": [],
   "source": [
    "#import findspark\n",
    "#findspark.init()\n",
    "import pyspark\n",
    "\n",
    "from pyspark.sql import SparkSession\n",
    "\n",
    "spark = SparkSession.builder \\\n",
    "    .master(\"local[2]\") \\\n",
    "    .appName(\"COM6012 Collaborative Filtering RecSys\") \\\n",
    "    .getOrCreate()\n",
    "\n",
    "sc = spark.sparkContext"
   ]
  },
  {
   "cell_type": "markdown",
   "metadata": {},
   "source": [
    "### Collaborative filtering\n",
    "[Collaborative filtering](http://en.wikipedia.org/wiki/Recommender_system#Collaborative_filtering) is a classic approach for recommender systems. These techniques aim to fill in the missing entries of a user-item association matrix primarily based on the matrix *itself*.  `spark.ml` currently supports **model-based** collaborative filtering, in which users and products are described by a small set of latent factors that can be used to predict missing entries, using the **alternating least squares (ALS)** algorithm. \n",
    "\n",
    "API: `class pyspark.ml.recommendation.ALS(rank=10, maxIter=10, regParam=0.1, numUserBlocks=10, numItemBlocks=10, implicitPrefs=False, alpha=1.0, userCol='user', itemCol='item', seed=None, ratingCol='rating', nonnegative=False, checkpointInterval=10, intermediateStorageLevel='MEMORY_AND_DISK', finalStorageLevel='MEMORY_AND_DISK', coldStartStrategy='nan')`\n",
    "\n",
    "The following parameters are available:\n",
    "- *rank*: the number of latent factors in the model (defaults to 10).\n",
    "- *maxIter* is the maximum number of iterations to run (defaults to 10).\n",
    "- *regParam*: the regularization parameter in ALS (defaults to 1.0).\n",
    "- *numUserBlocks*/*numItemBlocks*: the number of blocks the users and items will be partitioned into in order to parallelize computation (defaults to 10).\n",
    "- *implicitPrefs*: whether to use the explicit feedback ALS variant or one adapted for implicit feedback data (defaults to false which means using explicit feedback).\n",
    "- *alpha*: a parameter applicable to the implicit feedback variant of ALS that governs the baseline confidence in preference observations (defaults to 1.0).\n",
    "- *nonnegative*: whether or not to use nonnegative constraints for least squares (defaults to false).\n",
    "- *coldStartStrategy*: can be set to “drop” in order to drop any rows in the DataFrame of predictions that contain NaN values (defaults to \"nan\", assigning NaN to a user and/or item factor is not present in the model."
   ]
  },
  {
   "cell_type": "markdown",
   "metadata": {},
   "source": [
    "### Movie recommendation\n",
    "\n",
    "In the cells below, we present a small example of collaborative filtering with the data taken from the [MovieLens](http://grouplens.org/datasets/movielens/) project. In this notebook, we use the old 100k dataset (already downloaded in the `Data` folder but you are encouraged to view the source.\n",
    "\n",
    "The dataset looks like this:\n",
    "\n",
    "    196     242     3       881250949\n",
    "    186     302     3       891717742\n",
    "    22      377     1       878887116\n",
    "    244     51      2       880606923\n",
    "    ...\n",
    "\n",
    "This is a **tab separated** list of \n",
    "    \n",
    "    user id | item id | rating | timestamp "
   ]
  },
  {
   "cell_type": "markdown",
   "metadata": {},
   "source": [
    "####  Explicit vs. implicit feedback\n",
    "\n",
    "The data above is typically viewed as a user-item matrix with the ratings as the entries and users and items determine the row and column indices. The ratings are **explicit feedback**. The *Mean Squared Error* of rating prediction can be used to evaluate the recommendation model.\n",
    "\n",
    "The ratings can also be used differently. We can treat them as  treated as numbers representing the strength in observations of user actions, i.e., as **implicit feedback** similar to the number of clicks, or the cumulative duration someone spent viewing a movie. Such numbers are then related to the level of confidence in observed user preferences, rather than explicit ratings given to items. The model then tries to find latent factors that can be used to predict the expected preference of a user for an item."
   ]
  },
  {
   "cell_type": "markdown",
   "metadata": {},
   "source": [
    "#### Cold-start problem\n",
    "\n",
    "The cold-start problem refers to the cases when some users and/or items in the test dataset were not present during training the model. In Spark, these users and items are either assigned `NaN` (not a number, default) or dropped (option `drop`).\n"
   ]
  },
  {
   "cell_type": "code",
   "execution_count": 2,
   "metadata": {},
   "outputs": [],
   "source": [
    "from pyspark.ml.evaluation import RegressionEvaluator\n",
    "from pyspark.ml.recommendation import ALS\n",
    "from pyspark.sql import Row"
   ]
  },
  {
   "cell_type": "markdown",
   "metadata": {},
   "source": [
    "Read the data in and split words (tab separated)"
   ]
  },
  {
   "cell_type": "code",
   "execution_count": 3,
   "metadata": {},
   "outputs": [],
   "source": [
    "lines = spark.read.text(\"Data/MovieLens100k.data\").rdd\n",
    "parts = lines.map(lambda row: row.value.split(\"\\t\"))"
   ]
  },
  {
   "cell_type": "markdown",
   "metadata": {},
   "source": [
    "We need to convert the text (`String`) into numbers (`int` or `float`) and then convert RDD to DataFrame"
   ]
  },
  {
   "cell_type": "code",
   "execution_count": 7,
   "metadata": {},
   "outputs": [],
   "source": [
    "ratingsRDD = parts.map(lambda p: Row(userId=int(p[0]), movieId=int(p[1]),rating=float(p[2]), timestamp=int(p[3])))\n",
    "ratings = spark.createDataFrame(ratingsRDD)"
   ]
  },
  {
   "cell_type": "markdown",
   "metadata": {},
   "source": [
    "If there is a warning `RuntimeWarning: numpy.dtype size changed, may indicate binary incompatibility`, [the warning is benign](https://stackoverflow.com/questions/40845304/runtimewarning-numpy-dtype-size-changed-may-indicate-binary-incompatibility)\n",
    "\n",
    "Check data"
   ]
  },
  {
   "cell_type": "code",
   "execution_count": 6,
   "metadata": {},
   "outputs": [
    {
     "name": "stdout",
     "output_type": "stream",
     "text": [
      "+-------+------+---------+------+\n",
      "|movieId|rating|timestamp|userId|\n",
      "+-------+------+---------+------+\n",
      "|    242|   3.0|881250949|   196|\n",
      "|    302|   3.0|891717742|   186|\n",
      "|    377|   1.0|878887116|    22|\n",
      "|     51|   2.0|880606923|   244|\n",
      "|    346|   1.0|886397596|   166|\n",
      "+-------+------+---------+------+\n",
      "only showing top 5 rows\n",
      "\n"
     ]
    }
   ],
   "source": [
    "ratings.show(5)"
   ]
  },
  {
   "cell_type": "markdown",
   "metadata": {},
   "source": [
    "Check data type"
   ]
  },
  {
   "cell_type": "code",
   "execution_count": 8,
   "metadata": {
    "scrolled": true
   },
   "outputs": [
    {
     "name": "stdout",
     "output_type": "stream",
     "text": [
      "root\n",
      " |-- movieId: long (nullable = true)\n",
      " |-- rating: double (nullable = true)\n",
      " |-- timestamp: long (nullable = true)\n",
      " |-- userId: long (nullable = true)\n",
      "\n"
     ]
    }
   ],
   "source": [
    "ratings.printSchema()"
   ]
  },
  {
   "cell_type": "markdown",
   "metadata": {},
   "source": [
    "Prepare the training/test data."
   ]
  },
  {
   "cell_type": "code",
   "execution_count": 9,
   "metadata": {},
   "outputs": [],
   "source": [
    "(training, test) = ratings.randomSplit([0.8, 0.2])"
   ]
  },
  {
   "cell_type": "markdown",
   "metadata": {},
   "source": [
    "Build the recommendation model using ALS on the training data. Note we set cold start strategy to `drop` to ensure we don't get NaN evaluation metrics."
   ]
  },
  {
   "cell_type": "code",
   "execution_count": 10,
   "metadata": {},
   "outputs": [],
   "source": [
    "als = ALS(maxIter=10, regParam=0.1, userCol=\"userId\", itemCol=\"movieId\", ratingCol=\"rating\",\n",
    "          coldStartStrategy=\"drop\")\n",
    "model = als.fit(training)"
   ]
  },
  {
   "cell_type": "markdown",
   "metadata": {},
   "source": [
    "Evaluate the model by computing the RMSE on the test data"
   ]
  },
  {
   "cell_type": "code",
   "execution_count": 11,
   "metadata": {},
   "outputs": [
    {
     "name": "stdout",
     "output_type": "stream",
     "text": [
      "Root-mean-square error = 0.9208309618007443\n"
     ]
    }
   ],
   "source": [
    "predictions = model.transform(test)\n",
    "evaluator = RegressionEvaluator(metricName=\"rmse\", labelCol=\"rating\",predictionCol=\"prediction\")\n",
    "rmse = evaluator.evaluate(predictions)\n",
    "print(\"Root-mean-square error = \" + str(rmse))"
   ]
  },
  {
   "cell_type": "markdown",
   "metadata": {},
   "source": [
    "Generate top 10 movie recommendations for each user"
   ]
  },
  {
   "cell_type": "code",
   "execution_count": 12,
   "metadata": {},
   "outputs": [],
   "source": [
    "userRecs = model.recommendForAllUsers(10)"
   ]
  },
  {
   "cell_type": "code",
   "execution_count": 13,
   "metadata": {},
   "outputs": [
    {
     "name": "stdout",
     "output_type": "stream",
     "text": [
      "+------+------------------------------------------------------------------------------------------------------------------------------------------------------------------------------------+\n",
      "|userId|recommendations                                                                                                                                                                     |\n",
      "+------+------------------------------------------------------------------------------------------------------------------------------------------------------------------------------------+\n",
      "|471   |[[1470, 4.900675], [397, 4.846067], [267, 4.8229365], [1242, 4.7596416], [1517, 4.728816], [84, 4.641011], [1431, 4.622794], [1283, 4.5006127], [138, 4.462383], [1003, 4.400355]]  |\n",
      "|463   |[[1240, 4.535532], [19, 4.376981], [57, 4.35013], [1084, 4.3487062], [1167, 4.3303595], [854, 4.2069516], [1449, 4.186006], [1400, 4.164541], [923, 4.1486807], [1142, 4.104382]]   |\n",
      "|833   |[[320, 4.741966], [922, 4.5136566], [1597, 4.442335], [646, 4.433437], [1367, 4.4243484], [1643, 4.412847], [1022, 4.3554916], [865, 4.3368726], [160, 4.2828193], [179, 4.2488747]]|\n",
      "|496   |[[1589, 4.594977], [1159, 4.53306], [1005, 4.489904], [114, 4.4599543], [850, 4.453477], [1062, 4.3360004], [75, 4.3129616], [1466, 4.3023987], [1449, 4.2815075], [156, 4.2159033]]|\n",
      "|148   |[[1463, 5.0408597], [50, 4.913189], [408, 4.899724], [1203, 4.853733], [173, 4.8270745], [172, 4.8223743], [169, 4.8200817], [114, 4.809891], [1449, 4.8027687], [478, 4.8005233]]  |\n",
      "+------+------------------------------------------------------------------------------------------------------------------------------------------------------------------------------------+\n",
      "only showing top 5 rows\n",
      "\n"
     ]
    }
   ],
   "source": [
    "userRecs.show(5,  False)"
   ]
  },
  {
   "cell_type": "markdown",
   "metadata": {},
   "source": [
    "Generate top 10 user recommendations for each movie"
   ]
  },
  {
   "cell_type": "code",
   "execution_count": 14,
   "metadata": {},
   "outputs": [
    {
     "name": "stdout",
     "output_type": "stream",
     "text": [
      "+-------+----------------------------------------------------------------------------------------------------------------------------------------------------------------------------------+\n",
      "|movieId|recommendations                                                                                                                                                                   |\n",
      "+-------+----------------------------------------------------------------------------------------------------------------------------------------------------------------------------------+\n",
      "|471    |[[688, 5.234028], [507, 4.8654914], [849, 4.8447824], [928, 4.838387], [628, 4.7303247], [939, 4.7126417], [907, 4.69304], [810, 4.669467], [636, 4.663163], [427, 4.5909224]]    |\n",
      "|1591   |[[34, 5.8966618], [519, 5.043655], [219, 4.975429], [260, 4.8640513], [174, 4.791279], [440, 4.779292], [46, 4.689498], [808, 4.6608024], [628, 4.645273], [310, 4.582085]]       |\n",
      "|1342   |[[939, 1.9690245], [688, 1.9408865], [849, 1.932172], [507, 1.9308181], [907, 1.9282662], [38, 1.8929278], [314, 1.8682164], [599, 1.8634487], [427, 1.8531828], [636, 1.8479601]]|\n",
      "|463    |[[274, 4.700254], [136, 4.6510215], [590, 4.6060095], [187, 4.5627155], [810, 4.4989963], [8, 4.4628444], [433, 4.4577065], [241, 4.455759], [640, 4.439187], [821, 4.4326744]]   |\n",
      "|833    |[[127, 4.7905517], [849, 4.336825], [38, 4.311717], [801, 4.2636423], [434, 4.2335835], [507, 4.2197914], [897, 4.170279], [677, 4.143235], [939, 4.114484], [130, 4.113609]]     |\n",
      "+-------+----------------------------------------------------------------------------------------------------------------------------------------------------------------------------------+\n",
      "only showing top 5 rows\n",
      "\n"
     ]
    }
   ],
   "source": [
    "movieRecs = model.recommendForAllItems(10)\n",
    "movieRecs.show(5, False)"
   ]
  },
  {
   "cell_type": "markdown",
   "metadata": {},
   "source": [
    "Generate top 10 movie recommendations for a specified set of users"
   ]
  },
  {
   "cell_type": "code",
   "execution_count": 16,
   "metadata": {},
   "outputs": [
    {
     "name": "stdout",
     "output_type": "stream",
     "text": [
      "+------+\n",
      "|userId|\n",
      "+------+\n",
      "|    26|\n",
      "|    29|\n",
      "|   474|\n",
      "+------+\n",
      "\n",
      "+------+---------------------------------------------------------------------------------------------------------------------------------------------------------------------------------------+\n",
      "|userId|recommendations                                                                                                                                                                        |\n",
      "+------+---------------------------------------------------------------------------------------------------------------------------------------------------------------------------------------+\n",
      "|26    |[[1449, 4.153728], [963, 3.9192066], [64, 3.9110398], [119, 3.9017992], [1398, 3.9016767], [318, 3.9002013], [98, 3.8862982], [1467, 3.863437], [1643, 3.8596728], [127, 3.8453712]]   |\n",
      "|474   |[[1449, 5.2292957], [64, 4.9231725], [1467, 4.917202], [1589, 4.9118466], [357, 4.9006896], [318, 4.897036], [127, 4.838852], [316, 4.7856326], [98, 4.7786183], [119, 4.768557]]      |\n",
      "|29    |[[1449, 5.1958857], [1398, 4.8431973], [1643, 4.7505264], [119, 4.733186], [1062, 4.7293406], [1636, 4.710357], [1651, 4.710357], [1650, 4.710357], [1642, 4.710357], [251, 4.6878366]]|\n",
      "+------+---------------------------------------------------------------------------------------------------------------------------------------------------------------------------------------+\n",
      "\n"
     ]
    }
   ],
   "source": [
    "users = ratings.select(als.getUserCol()).distinct().limit(3)\n",
    "userSubsetRecs = model.recommendForUserSubset(users, 10)\n",
    "users.show()\n",
    "userSubsetRecs.show(3,False)"
   ]
  },
  {
   "cell_type": "markdown",
   "metadata": {},
   "source": [
    "Generate top 10 user recommendations for a specified set of movies"
   ]
  },
  {
   "cell_type": "code",
   "execution_count": 17,
   "metadata": {
    "scrolled": true
   },
   "outputs": [
    {
     "name": "stdout",
     "output_type": "stream",
     "text": [
      "+-------+\n",
      "|movieId|\n",
      "+-------+\n",
      "|    474|\n",
      "|     29|\n",
      "|     26|\n",
      "+-------+\n",
      "\n",
      "+-------+--------------------------------------------------------------------------------------------------------------------------------------------------------------------------------+\n",
      "|movieId|recommendations                                                                                                                                                                 |\n",
      "+-------+--------------------------------------------------------------------------------------------------------------------------------------------------------------------------------+\n",
      "|26     |[[157, 4.550767], [252, 4.3424644], [810, 4.3321066], [324, 4.269975], [152, 4.2655387], [939, 4.231525], [923, 4.2273707], [98, 4.2249775], [477, 4.2249465], [823, 4.2226787]]|\n",
      "|474    |[[810, 5.184328], [366, 5.052301], [808, 5.051015], [118, 5.0436587], [909, 5.038618], [565, 5.0255303], [794, 4.998806], [686, 4.9673657], [252, 4.9515038], [583, 4.9381537]] |\n",
      "|29     |[[534, 4.577686], [507, 4.514652], [887, 4.3893414], [36, 4.295147], [427, 4.2510595], [928, 4.241075], [642, 4.1127663], [810, 4.0869875], [636, 4.084371], [546, 4.0445113]]  |\n",
      "+-------+--------------------------------------------------------------------------------------------------------------------------------------------------------------------------------+\n",
      "\n"
     ]
    }
   ],
   "source": [
    "movies = ratings.select(als.getItemCol()).distinct().limit(3)\n",
    "movieSubSetRecs = model.recommendForItemSubset(movies, 10)\n",
    "movies.show()\n",
    "movieSubSetRecs.show(3,False)"
   ]
  },
  {
   "cell_type": "code",
   "execution_count": 18,
   "metadata": {
    "scrolled": true
   },
   "outputs": [],
   "source": [
    "dfItemFactors=model.itemFactors"
   ]
  },
  {
   "cell_type": "code",
   "execution_count": 19,
   "metadata": {},
   "outputs": [
    {
     "name": "stdout",
     "output_type": "stream",
     "text": [
      "+---+--------------------+\n",
      "| id|            features|\n",
      "+---+--------------------+\n",
      "| 10|[0.18631613, -0.2...|\n",
      "| 20|[0.93708706, 0.08...|\n",
      "| 30|[0.55954486, 0.34...|\n",
      "| 40|[0.5879103, -0.11...|\n",
      "| 50|[0.2717666, 0.840...|\n",
      "| 60|[1.0015688, -0.09...|\n",
      "| 70|[0.2475857, 0.207...|\n",
      "| 80|[0.14565837, -0.0...|\n",
      "| 90|[0.18188412, 0.02...|\n",
      "|100|[0.40505815, 0.41...|\n",
      "|110|[-0.042184424, 0....|\n",
      "|120|[0.14690603, 0.11...|\n",
      "|130|[0.0413769, -0.22...|\n",
      "|140|[-0.4743838, -0.2...|\n",
      "|150|[-0.10274536, 0.4...|\n",
      "|160|[0.29685104, 0.71...|\n",
      "|170|[0.74100536, 0.22...|\n",
      "|180|[0.2180418, 0.526...|\n",
      "|190|[0.21750833, 0.13...|\n",
      "|200|[0.12555434, 0.15...|\n",
      "+---+--------------------+\n",
      "only showing top 20 rows\n",
      "\n"
     ]
    }
   ],
   "source": [
    "dfItemFactors.show()"
   ]
  },
  {
   "cell_type": "markdown",
   "metadata": {},
   "source": [
    "**`.describe().show()` is very handy to inspect your (big) data for understanding/debugging. Try to use it more often to see.**"
   ]
  },
  {
   "cell_type": "code",
   "execution_count": 20,
   "metadata": {
    "scrolled": true
   },
   "outputs": [
    {
     "name": "stdout",
     "output_type": "stream",
     "text": [
      "+-------+-----------------+\n",
      "|summary|               id|\n",
      "+-------+-----------------+\n",
      "|  count|             1652|\n",
      "|   mean|830.0677966101695|\n",
      "| stddev|481.7960935040842|\n",
      "|    min|                1|\n",
      "|    max|             1682|\n",
      "+-------+-----------------+\n",
      "\n"
     ]
    }
   ],
   "source": [
    "dfItemFactors.describe().show()"
   ]
  },
  {
   "cell_type": "code",
   "execution_count": 21,
   "metadata": {},
   "outputs": [
    {
     "name": "stdout",
     "output_type": "stream",
     "text": [
      "+-------+-----------------+\n",
      "|summary|          movieId|\n",
      "+-------+-----------------+\n",
      "|  count|             1682|\n",
      "|   mean|            841.5|\n",
      "| stddev|485.6958925088827|\n",
      "|    min|                1|\n",
      "|    max|             1682|\n",
      "+-------+-----------------+\n",
      "\n"
     ]
    }
   ],
   "source": [
    "allmovies = ratings.select(als.getItemCol()).distinct()\n",
    "allmovies.describe().show()"
   ]
  },
  {
   "cell_type": "code",
   "execution_count": 19,
   "metadata": {},
   "outputs": [
    {
     "data": {
      "text/plain": [
       "17"
      ]
     },
     "execution_count": 19,
     "metadata": {},
     "output_type": "execute_result"
    }
   ],
   "source": [
    "1682-1665"
   ]
  },
  {
   "cell_type": "markdown",
   "metadata": {},
   "source": [
    "**Question**: Why is there a difference of 17?"
   ]
  },
  {
   "cell_type": "markdown",
   "metadata": {},
   "source": [
    "## 2. Exercise - Further analysis of the MovieLens data (completing two or more questions is considered as completion of this exercise).\n",
    "* Consider more parameter settings to observe the effecttsm e.g., different values of *rank* and/or *regParam*, `nan` vs `drop` for `coldStartStrategy`, etc.\n",
    "* Use cross validation to select the best model among various parameter settings (reference: Section 15.3.2 of [PySpark tutorial](https://runawayhorse001.github.io/LearningApacheSpark/pyspark.pdf) )\n",
    "* Create a standalone program that carries out collaborative filtering. Run this on a bigger [MovieLens dataset](http://grouplens.org/datasets/movielens/), e.g., 1M, 10M or 20M.\n",
    "\n",
    "* Use 10-fold cross validation (with an 80% training and 20% testing split) to find an average mean average (or squared) error on your test data. Keep your program as parallel as possible. You can create your splits randomly (or any other way you choose!), and don't forget who has access to various variables and who doesn't..."
   ]
  },
  {
   "cell_type": "code",
   "execution_count": null,
   "metadata": {},
   "outputs": [],
   "source": [
    "als = ALS(maxIter=10, regParam=0.3, userCol=\"userId\", itemCol=\"movieId\", ratingCol=\"rating\",\n",
    "          coldStartStrategy=\"drop\")\n",
    "model = als.fit(training)"
   ]
  },
  {
   "cell_type": "markdown",
   "metadata": {},
   "source": [
    "## 3. More Recommender Systems via ALS (Optional but recommended)\n",
    "\n",
    "### Databricks tutorial\n",
    "* Complete the tasks in [quiz provided by DataBricks](https://github.com/databricks/spark-training/blob/master/machine-learning/python/MovieLensALS.py) on their data or the data from MovieLens directly. [Solution](https://github.com/databricks/spark-training/blob/master/machine-learning/python/solution/MovieLensALS.py) is posted but you are suggested to try before consulting the solution.\n",
    "\n",
    "### Santander Kaggle competition on produce recommendation\n",
    "* A recent Kaggle competition on [Santander Product Recommendation](https://www.kaggle.com/c/santander-product-recommendation) with a prize of **USD 60,000**, and **1,787 teams** participating. \n",
    "* Follow this [PySpark notebook on an ALS-based solution](https://www.elenacuoco.com/2016/12/22/alternating-least-squares-als-spark-ml/)\n",
    "* Learn the way to consider **implcit preferences** and do the same for other recommendation problems.\n",
    "\n",
    "\n",
    "### Stock Portfolio Recommendations\n",
    "* Follow Chapter 15 of [PySpark tutorial](https://runawayhorse001.github.io/LearningApacheSpark/pyspark.pdf)  to perform [Stock Portfolio Recommendations](https://en.wikipedia.org/wiki/Portfolio_investment))\n",
    "* The data can be downloaded from [Online Retail Data Set](https://archive.ics.uci.edu/ml/datasets/online+retail) at UCI. \n",
    "* Please pay attention to the **data cleaning** step that removes rows containing null value. You may need to do the same when you are dealing with real data.\n",
    "* The data manipulation steps are useful to learn.\n",
    "\n",
    "### Context-aware recommendation\n",
    "\n",
    "* See the method in [Joint interaction with context operation for collaborative filtering](https://www.sciencedirect.com/science/article/pii/S0031320318304242?dgcid=rss_sd_all) and implement it in PySpark\n",
    "* Perform the **time split recommendation** as disscussed in the paper for the above recommender systems.\n"
   ]
  }
 ],
 "metadata": {
  "kernelspec": {
   "display_name": "Python 3",
   "language": "python",
   "name": "python3"
  },
  "language_info": {
   "codemirror_mode": {
    "name": "ipython",
    "version": 3
   },
   "file_extension": ".py",
   "mimetype": "text/x-python",
   "name": "python",
   "nbconvert_exporter": "python",
   "pygments_lexer": "ipython3",
   "version": "3.7.4"
  }
 },
 "nbformat": 4,
 "nbformat_minor": 2
}
