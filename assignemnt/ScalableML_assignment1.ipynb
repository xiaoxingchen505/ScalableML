{
 "cells": [
  {
   "cell_type": "code",
   "execution_count": 3,
   "metadata": {},
   "outputs": [],
   "source": [
    "#import findspark\n",
    "#findspark.init()\n",
    "import pyspark\n",
    "\n",
    "from pyspark.sql import SparkSession\n",
    "from pyspark.sql import Row\n",
    "import pyspark.sql.functions as func\n",
    "\n",
    "\n",
    "spark = SparkSession.builder \\\n",
    "    .master(\"local[2]\") \\\n",
    "    .appName(\"COM6012 Assignment 1\") \\\n",
    "    .getOrCreate()\n",
    "\n",
    "sc = spark.sparkContext\n"
   ]
  },
  {
   "cell_type": "code",
   "execution_count": 4,
   "metadata": {},
   "outputs": [],
   "source": [
    "report_list = []"
   ]
  },
  {
   "cell_type": "code",
   "execution_count": 5,
   "metadata": {},
   "outputs": [],
   "source": [
    "logFile=spark.read.text(\"NASA_access_log_Jul95.gz\").cache()"
   ]
  },
  {
   "cell_type": "code",
   "execution_count": 6,
   "metadata": {},
   "outputs": [],
   "source": [
    "reqs = logFile.withColumn('time', func.regexp_extract(logFile['value'],':(.*) -',1))"
   ]
  },
  {
   "cell_type": "code",
   "execution_count": 7,
   "metadata": {},
   "outputs": [],
   "source": [
    "df_first_slot = reqs.filter(func.col(\"time\").between(\"00:00:00\",\"03:59:59\"))\n"
   ]
  },
  {
   "cell_type": "code",
   "execution_count": 8,
   "metadata": {},
   "outputs": [],
   "source": [
    "avg_1=df_first_slot.groupBy('time').count().select(func.mean('count').alias(\"Average number of request on 0 to 4 clock\")).collect()[0]"
   ]
  },
  {
   "cell_type": "code",
   "execution_count": 9,
   "metadata": {},
   "outputs": [],
   "source": [
    "df_second_slot = reqs.filter(func.col(\"time\").between(\"04:00:00\",\"07:59:59\"))"
   ]
  },
  {
   "cell_type": "code",
   "execution_count": 10,
   "metadata": {},
   "outputs": [],
   "source": [
    "avg_2=df_second_slot.groupBy('time').count().select(func.mean('count').alias(\"Average number of request on 4 to 8 clock\")).collect()[0]"
   ]
  },
  {
   "cell_type": "code",
   "execution_count": 12,
   "metadata": {},
   "outputs": [],
   "source": [
    "df_third_slot = reqs.filter(func.col(\"time\").between(\"08:00:00\",\"11:59:59\"))"
   ]
  },
  {
   "cell_type": "code",
   "execution_count": 13,
   "metadata": {},
   "outputs": [],
   "source": [
    "avg_3=df_third_slot.groupBy('time').count().select(func.mean('count').alias(\"Average number of request on 8 to 12 clock\")).collect()[0]"
   ]
  },
  {
   "cell_type": "code",
   "execution_count": 15,
   "metadata": {},
   "outputs": [],
   "source": [
    "df_fourth_slot = reqs.filter(func.col(\"time\").between(\"12:00:00\",\"15:59:59\"))"
   ]
  },
  {
   "cell_type": "code",
   "execution_count": 16,
   "metadata": {},
   "outputs": [],
   "source": [
    "avg_4=df_fourth_slot.groupBy('time').count().select(func.mean('count').alias(\"Average number of request on 12 to 16 clock\")).collect()[0]"
   ]
  },
  {
   "cell_type": "code",
   "execution_count": 18,
   "metadata": {},
   "outputs": [],
   "source": [
    "df_fifth_slot = reqs.filter(func.col(\"time\").between(\"16:00:00\",\"19:59:59\"))"
   ]
  },
  {
   "cell_type": "code",
   "execution_count": 19,
   "metadata": {},
   "outputs": [],
   "source": [
    "avg_5=df_fifth_slot.groupBy('time').count().select(func.mean('count').alias(\"Average number of request on 16 to 20 clock\")).collect()[0]"
   ]
  },
  {
   "cell_type": "code",
   "execution_count": 21,
   "metadata": {},
   "outputs": [],
   "source": [
    "df_sixth_slot = reqs.filter(func.col(\"time\").between(\"20:00:00\",\"23:59:59\"))"
   ]
  },
  {
   "cell_type": "code",
   "execution_count": 22,
   "metadata": {},
   "outputs": [],
   "source": [
    "avg_6=df_fifth_slot.groupBy('time').count().select(func.mean('count').alias(\"Average number of request on 20 to 24 clock\")).collect()[0]"
   ]
  },
  {
   "cell_type": "code",
   "execution_count": 24,
   "metadata": {},
   "outputs": [],
   "source": [
    "report_list.append(avg_1)\n",
    "report_list.append(avg_2)\n",
    "report_list.append(avg_3)\n",
    "report_list.append(avg_4)\n",
    "report_list.append(avg_5)\n",
    "report_list.append(avg_6)"
   ]
  },
  {
   "cell_type": "code",
   "execution_count": 25,
   "metadata": {},
   "outputs": [
    {
     "data": {
      "text/plain": [
       "[Row(Average number of request on 0 to 4 clock=11.939529000782992),\n",
       " Row(Average number of request on 4 to 8 clock=9.707244542866182),\n",
       " Row(Average number of request on 8 to 12 clock=22.03662385720505),\n",
       " Row(Average number of request on 12 to 16 clock=24.988290879211174),\n",
       " Row(Average number of request on 16 to 20 clock=20.033273233896082),\n",
       " Row(Average number of request on 20 to 24 clock=20.033273233896082)]"
      ]
     },
     "execution_count": 25,
     "metadata": {},
     "output_type": "execute_result"
    }
   ],
   "source": [
    "report_list"
   ]
  },
  {
   "cell_type": "code",
   "execution_count": null,
   "metadata": {},
   "outputs": [],
   "source": []
  }
 ],
 "metadata": {
  "kernelspec": {
   "display_name": "Python 3",
   "language": "python",
   "name": "python3"
  },
  "language_info": {
   "codemirror_mode": {
    "name": "ipython",
    "version": 3
   },
   "file_extension": ".py",
   "mimetype": "text/x-python",
   "name": "python",
   "nbconvert_exporter": "python",
   "pygments_lexer": "ipython3",
   "version": "3.7.4"
  }
 },
 "nbformat": 4,
 "nbformat_minor": 2
}
