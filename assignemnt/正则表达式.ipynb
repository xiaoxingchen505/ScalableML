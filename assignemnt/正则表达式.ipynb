{
 "cells": [
  {
   "cell_type": "code",
   "execution_count": 59,
   "metadata": {},
   "outputs": [
    {
     "name": "stderr",
     "output_type": "stream",
     "text": [
      "C:\\ProgramData\\Anaconda3\\lib\\site-packages\\ipykernel_launcher.py:5: ParserWarning: Falling back to the 'python' engine because the 'c' engine does not support regex separators (separators > 1 char and different from '\\s+' are interpreted as regex); you can avoid this warning by specifying engine='python'.\n",
      "  \"\"\"\n"
     ]
    }
   ],
   "source": [
    "import re\n",
    "import pandas as pd\n",
    "\n",
    "\n",
    "log_raw = pd.read_csv('NASA_Aug95_100.txt',header = None,sep=\" \\t\")"
   ]
  },
  {
   "cell_type": "code",
   "execution_count": 116,
   "metadata": {},
   "outputs": [],
   "source": [
    "log_raw['host'] = log_raw"
   ]
  },
  {
   "cell_type": "code",
   "execution_count": 117,
   "metadata": {},
   "outputs": [],
   "source": [
    "log_raw['host'] = log_raw['host'].apply(lambda x: re.findall(\"(.*) - -\", x))"
   ]
  },
  {
   "cell_type": "code",
   "execution_count": 118,
   "metadata": {},
   "outputs": [],
   "source": [
    "log_raw['timestamp'] = log_raw[0].apply(lambda x: re.findall(\"\\[(.*) -\", x))"
   ]
  },
  {
   "cell_type": "code",
   "execution_count": 119,
   "metadata": {},
   "outputs": [],
   "source": [
    "log_raw['request'] = log_raw[0].apply(lambda x: re.findall('\\\"(.*)\\\"', x))"
   ]
  },
  {
   "cell_type": "code",
   "execution_count": 120,
   "metadata": {},
   "outputs": [],
   "source": [
    "log_raw['HTTP_reply_code'] = log_raw[0].apply(lambda x: re.findall('\\\" (.*) ', x))"
   ]
  },
  {
   "cell_type": "code",
   "execution_count": 134,
   "metadata": {},
   "outputs": [],
   "source": [
    "log_raw['bytes_in_the_reply'] = log_raw[0].apply(lambda x: re.findall('\\\" \\d* (.*)', x))"
   ]
  },
  {
   "cell_type": "code",
   "execution_count": 141,
   "metadata": {},
   "outputs": [
    {
     "data": {
      "text/html": [
       "<div>\n",
       "<style scoped>\n",
       "    .dataframe tbody tr th:only-of-type {\n",
       "        vertical-align: middle;\n",
       "    }\n",
       "\n",
       "    .dataframe tbody tr th {\n",
       "        vertical-align: top;\n",
       "    }\n",
       "\n",
       "    .dataframe thead th {\n",
       "        text-align: right;\n",
       "    }\n",
       "</style>\n",
       "<table border=\"1\" class=\"dataframe\">\n",
       "  <thead>\n",
       "    <tr style=\"text-align: right;\">\n",
       "      <th></th>\n",
       "      <th>0</th>\n",
       "      <th>host</th>\n",
       "      <th>timestamp</th>\n",
       "      <th>request</th>\n",
       "      <th>HTTP_reply_code</th>\n",
       "      <th>bytes_in_the_reply</th>\n",
       "    </tr>\n",
       "  </thead>\n",
       "  <tbody>\n",
       "    <tr>\n",
       "      <td>0</td>\n",
       "      <td>in24.inetnebr.com - - [01/Aug/1995:00:00:01 -0...</td>\n",
       "      <td>[in24.inetnebr.com]</td>\n",
       "      <td>[01/Aug/1995:00:00:01]</td>\n",
       "      <td>[GET /shuttle/missions/sts-68/news/sts-68-mcc-...</td>\n",
       "      <td>[200]</td>\n",
       "      <td>[1839]</td>\n",
       "    </tr>\n",
       "    <tr>\n",
       "      <td>1</td>\n",
       "      <td>uplherc.upl.com - - [01/Aug/1995:00:00:07 -040...</td>\n",
       "      <td>[uplherc.upl.com]</td>\n",
       "      <td>[01/Aug/1995:00:00:07]</td>\n",
       "      <td>[GET / HTTP/1.0]</td>\n",
       "      <td>[304]</td>\n",
       "      <td>[0]</td>\n",
       "    </tr>\n",
       "    <tr>\n",
       "      <td>2</td>\n",
       "      <td>uplherc.upl.com - - [01/Aug/1995:00:00:08 -040...</td>\n",
       "      <td>[uplherc.upl.com]</td>\n",
       "      <td>[01/Aug/1995:00:00:08]</td>\n",
       "      <td>[GET /images/ksclogo-medium.gif HTTP/1.0]</td>\n",
       "      <td>[304]</td>\n",
       "      <td>[0]</td>\n",
       "    </tr>\n",
       "    <tr>\n",
       "      <td>3</td>\n",
       "      <td>uplherc.upl.com - - [01/Aug/1995:00:00:08 -040...</td>\n",
       "      <td>[uplherc.upl.com]</td>\n",
       "      <td>[01/Aug/1995:00:00:08]</td>\n",
       "      <td>[GET /images/MOSAIC-logosmall.gif HTTP/1.0]</td>\n",
       "      <td>[304]</td>\n",
       "      <td>[0]</td>\n",
       "    </tr>\n",
       "    <tr>\n",
       "      <td>4</td>\n",
       "      <td>uplherc.upl.com - - [01/Aug/1995:00:00:08 -040...</td>\n",
       "      <td>[uplherc.upl.com]</td>\n",
       "      <td>[01/Aug/1995:00:00:08]</td>\n",
       "      <td>[GET /images/USA-logosmall.gif HTTP/1.0]</td>\n",
       "      <td>[304]</td>\n",
       "      <td>[0]</td>\n",
       "    </tr>\n",
       "    <tr>\n",
       "      <td>...</td>\n",
       "      <td>...</td>\n",
       "      <td>...</td>\n",
       "      <td>...</td>\n",
       "      <td>...</td>\n",
       "      <td>...</td>\n",
       "      <td>...</td>\n",
       "    </tr>\n",
       "    <tr>\n",
       "      <td>95</td>\n",
       "      <td>139.230.35.135 - - [01/Aug/1995:00:02:02 -0400...</td>\n",
       "      <td>[139.230.35.135]</td>\n",
       "      <td>[01/Aug/1995:00:02:02]</td>\n",
       "      <td>[GET /shuttle/missions/sts-49/mission-sts-49.h...</td>\n",
       "      <td>[200]</td>\n",
       "      <td>[9271]</td>\n",
       "    </tr>\n",
       "    <tr>\n",
       "      <td>96</td>\n",
       "      <td>rpgopher.aist.go.jp - - [01/Aug/1995:00:02:02 ...</td>\n",
       "      <td>[rpgopher.aist.go.jp]</td>\n",
       "      <td>[01/Aug/1995:00:02:02]</td>\n",
       "      <td>[GET /images/NASA-logosmall.gif HTTP/1.0]</td>\n",
       "      <td>[304]</td>\n",
       "      <td>[0]</td>\n",
       "    </tr>\n",
       "    <tr>\n",
       "      <td>97</td>\n",
       "      <td>ip-pdx6-54.teleport.com - - [01/Aug/1995:00:02...</td>\n",
       "      <td>[ip-pdx6-54.teleport.com]</td>\n",
       "      <td>[01/Aug/1995:00:02:03]</td>\n",
       "      <td>[GET /history/apollo/apollo-13/apollo-13.html ...</td>\n",
       "      <td>[200]</td>\n",
       "      <td>[18556]</td>\n",
       "    </tr>\n",
       "    <tr>\n",
       "      <td>98</td>\n",
       "      <td>rpgopher.aist.go.jp - - [01/Aug/1995:00:02:04 ...</td>\n",
       "      <td>[rpgopher.aist.go.jp]</td>\n",
       "      <td>[01/Aug/1995:00:02:04]</td>\n",
       "      <td>[GET /images/USA-logosmall.gif HTTP/1.0]</td>\n",
       "      <td>[304]</td>\n",
       "      <td>[0]</td>\n",
       "    </tr>\n",
       "    <tr>\n",
       "      <td>99</td>\n",
       "      <td>rpgopher.aist.go.jp - - [01/Aug/1995:00:02:04 ...</td>\n",
       "      <td>[rpgopher.aist.go.jp]</td>\n",
       "      <td>[01/Aug/1995:00:02:04]</td>\n",
       "      <td>[GET /images/ksclogo-medium.gif HTTP/1.0]</td>\n",
       "      <td>[304]</td>\n",
       "      <td>[0]</td>\n",
       "    </tr>\n",
       "  </tbody>\n",
       "</table>\n",
       "<p>100 rows × 6 columns</p>\n",
       "</div>"
      ],
      "text/plain": [
       "                                                    0  \\\n",
       "0   in24.inetnebr.com - - [01/Aug/1995:00:00:01 -0...   \n",
       "1   uplherc.upl.com - - [01/Aug/1995:00:00:07 -040...   \n",
       "2   uplherc.upl.com - - [01/Aug/1995:00:00:08 -040...   \n",
       "3   uplherc.upl.com - - [01/Aug/1995:00:00:08 -040...   \n",
       "4   uplherc.upl.com - - [01/Aug/1995:00:00:08 -040...   \n",
       "..                                                ...   \n",
       "95  139.230.35.135 - - [01/Aug/1995:00:02:02 -0400...   \n",
       "96  rpgopher.aist.go.jp - - [01/Aug/1995:00:02:02 ...   \n",
       "97  ip-pdx6-54.teleport.com - - [01/Aug/1995:00:02...   \n",
       "98  rpgopher.aist.go.jp - - [01/Aug/1995:00:02:04 ...   \n",
       "99  rpgopher.aist.go.jp - - [01/Aug/1995:00:02:04 ...   \n",
       "\n",
       "                         host               timestamp  \\\n",
       "0         [in24.inetnebr.com]  [01/Aug/1995:00:00:01]   \n",
       "1           [uplherc.upl.com]  [01/Aug/1995:00:00:07]   \n",
       "2           [uplherc.upl.com]  [01/Aug/1995:00:00:08]   \n",
       "3           [uplherc.upl.com]  [01/Aug/1995:00:00:08]   \n",
       "4           [uplherc.upl.com]  [01/Aug/1995:00:00:08]   \n",
       "..                        ...                     ...   \n",
       "95           [139.230.35.135]  [01/Aug/1995:00:02:02]   \n",
       "96      [rpgopher.aist.go.jp]  [01/Aug/1995:00:02:02]   \n",
       "97  [ip-pdx6-54.teleport.com]  [01/Aug/1995:00:02:03]   \n",
       "98      [rpgopher.aist.go.jp]  [01/Aug/1995:00:02:04]   \n",
       "99      [rpgopher.aist.go.jp]  [01/Aug/1995:00:02:04]   \n",
       "\n",
       "                                              request HTTP_reply_code  \\\n",
       "0   [GET /shuttle/missions/sts-68/news/sts-68-mcc-...           [200]   \n",
       "1                                    [GET / HTTP/1.0]           [304]   \n",
       "2           [GET /images/ksclogo-medium.gif HTTP/1.0]           [304]   \n",
       "3         [GET /images/MOSAIC-logosmall.gif HTTP/1.0]           [304]   \n",
       "4            [GET /images/USA-logosmall.gif HTTP/1.0]           [304]   \n",
       "..                                                ...             ...   \n",
       "95  [GET /shuttle/missions/sts-49/mission-sts-49.h...           [200]   \n",
       "96          [GET /images/NASA-logosmall.gif HTTP/1.0]           [304]   \n",
       "97  [GET /history/apollo/apollo-13/apollo-13.html ...           [200]   \n",
       "98           [GET /images/USA-logosmall.gif HTTP/1.0]           [304]   \n",
       "99          [GET /images/ksclogo-medium.gif HTTP/1.0]           [304]   \n",
       "\n",
       "   bytes_in_the_reply  \n",
       "0              [1839]  \n",
       "1                 [0]  \n",
       "2                 [0]  \n",
       "3                 [0]  \n",
       "4                 [0]  \n",
       "..                ...  \n",
       "95             [9271]  \n",
       "96                [0]  \n",
       "97            [18556]  \n",
       "98                [0]  \n",
       "99                [0]  \n",
       "\n",
       "[100 rows x 6 columns]"
      ]
     },
     "execution_count": 141,
     "metadata": {},
     "output_type": "execute_result"
    }
   ],
   "source": [
    "log_raw"
   ]
  },
  {
   "cell_type": "code",
   "execution_count": null,
   "metadata": {},
   "outputs": [],
   "source": []
  }
 ],
 "metadata": {
  "kernelspec": {
   "display_name": "Python 3",
   "language": "python",
   "name": "python3"
  },
  "language_info": {
   "codemirror_mode": {
    "name": "ipython",
    "version": 3
   },
   "file_extension": ".py",
   "mimetype": "text/x-python",
   "name": "python",
   "nbconvert_exporter": "python",
   "pygments_lexer": "ipython3",
   "version": "3.7.4"
  }
 },
 "nbformat": 4,
 "nbformat_minor": 2
}
