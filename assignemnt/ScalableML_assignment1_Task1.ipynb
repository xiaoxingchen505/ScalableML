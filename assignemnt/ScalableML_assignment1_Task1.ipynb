{
 "cells": [
  {
   "cell_type": "code",
   "execution_count": 1,
   "metadata": {},
   "outputs": [],
   "source": [
    "#import findspark\n",
    "#findspark.init()\n",
    "import pyspark\n",
    "\n",
    "from pyspark.sql import SparkSession\n",
    "from pyspark.sql import Row\n",
    "import pyspark.sql.functions as func\n",
    "\n",
    "\n",
    "spark = SparkSession.builder \\\n",
    "    .master(\"local[2]\") \\\n",
    "    .appName(\"COM6012 Assignment 1 Task1\") \\\n",
    "    .getOrCreate()\n",
    "\n",
    "sc = spark.sparkContext\n"
   ]
  },
  {
   "cell_type": "code",
   "execution_count": 2,
   "metadata": {},
   "outputs": [],
   "source": [
    "report_list = []"
   ]
  },
  {
   "cell_type": "code",
   "execution_count": 3,
   "metadata": {},
   "outputs": [],
   "source": [
    "logFile=spark.read.text(\"NASA_access_log_Jul95.gz\").cache()"
   ]
  },
  {
   "cell_type": "code",
   "execution_count": 4,
   "metadata": {},
   "outputs": [
    {
     "data": {
      "text/plain": [
       "1891715"
      ]
     },
     "execution_count": 4,
     "metadata": {},
     "output_type": "execute_result"
    }
   ],
   "source": [
    "logFile.count()"
   ]
  },
  {
   "cell_type": "code",
   "execution_count": 5,
   "metadata": {},
   "outputs": [],
   "source": [
    "reqs = logFile.withColumn('time', func.regexp_extract(logFile['value'],':(.*) -',1))"
   ]
  },
  {
   "cell_type": "code",
   "execution_count": 6,
   "metadata": {},
   "outputs": [],
   "source": [
    "reqs_with_data = reqs.withColumn('Date', func.regexp_extract(func.col('value'),'\\[(\\d+)\\/Jul',1))"
   ]
  },
  {
   "cell_type": "code",
   "execution_count": 7,
   "metadata": {},
   "outputs": [],
   "source": [
    "df_first_slot = reqs_with_data.filter(func.col(\"time\").between(\"00:00:00\",\"03:59:59\"))"
   ]
  },
  {
   "cell_type": "code",
   "execution_count": 8,
   "metadata": {},
   "outputs": [],
   "source": [
    "avg_1=df_first_slot.groupBy('Date').count().select(func.mean('count').alias(\"Average number of request on 0 to 4 clock\")).collect()[0]"
   ]
  },
  {
   "cell_type": "code",
   "execution_count": 9,
   "metadata": {},
   "outputs": [],
   "source": [
    "df_second_slot = reqs_with_data.filter(func.col(\"time\").between(\"04:00:00\",\"07:59:59\"))"
   ]
  },
  {
   "cell_type": "code",
   "execution_count": 10,
   "metadata": {},
   "outputs": [],
   "source": [
    "avg_2=df_second_slot.groupBy('Date').count().select(func.mean('count').alias(\"Average number of request on 4 to 8 clock\")).collect()[0]"
   ]
  },
  {
   "cell_type": "code",
   "execution_count": 11,
   "metadata": {},
   "outputs": [],
   "source": [
    "df_third_slot = reqs_with_data.filter(func.col(\"time\").between(\"08:00:00\",\"11:59:59\"))"
   ]
  },
  {
   "cell_type": "code",
   "execution_count": 12,
   "metadata": {},
   "outputs": [],
   "source": [
    "avg_3=df_third_slot.groupBy('Date').count().select(func.mean('count').alias(\"Average number of request on 8 to 12 clock\")).collect()[0]"
   ]
  },
  {
   "cell_type": "code",
   "execution_count": 13,
   "metadata": {},
   "outputs": [],
   "source": [
    "df_fourth_slot = reqs_with_data.filter(func.col(\"time\").between(\"12:00:00\",\"15:59:59\"))"
   ]
  },
  {
   "cell_type": "code",
   "execution_count": 14,
   "metadata": {},
   "outputs": [],
   "source": [
    "avg_4=df_fourth_slot.groupBy('Date').count().select(func.mean('count').alias(\"Average number of request on 12 to 16 clock\")).collect()[0]"
   ]
  },
  {
   "cell_type": "code",
   "execution_count": 15,
   "metadata": {},
   "outputs": [],
   "source": [
    "df_fifth_slot = reqs_with_data.filter(func.col(\"time\").between(\"16:00:00\",\"19:59:59\"))"
   ]
  },
  {
   "cell_type": "code",
   "execution_count": 16,
   "metadata": {},
   "outputs": [],
   "source": [
    "avg_5=df_fifth_slot.groupBy('Date').count().select(func.mean('count').alias(\"Average number of request on 16 to 20 clock\")).collect()[0]"
   ]
  },
  {
   "cell_type": "code",
   "execution_count": 17,
   "metadata": {},
   "outputs": [],
   "source": [
    "df_sixth_slot = reqs_with_data.filter(func.col(\"time\").between(\"20:00:00\",\"23:59:59\"))"
   ]
  },
  {
   "cell_type": "code",
   "execution_count": 18,
   "metadata": {},
   "outputs": [],
   "source": [
    "avg_6=df_fifth_slot.groupBy('Date').count().select(func.mean('count').alias(\"Average number of request on 20 to 24 clock\")).collect()[0]"
   ]
  },
  {
   "cell_type": "code",
   "execution_count": 19,
   "metadata": {},
   "outputs": [],
   "source": [
    "rdd_report = sc.parallelize([('From 0 to 4',avg_1),\n",
    "                             ('From 4 to 8',avg_2),\n",
    "                             ('From 8 to 12',avg_3),\n",
    "                             ('From 12 to 16',avg_4),\n",
    "                             ('From 16 to 20',avg_5),\n",
    "                             ('From 20 to 24',avg_6)])\n",
    "df_report = rdd_report.toDF([\" Six different Timeslot\",\"Average number of request of Jul\"])"
   ]
  },
  {
   "cell_type": "code",
   "execution_count": 28,
   "metadata": {},
   "outputs": [
    {
     "name": "stdout",
     "output_type": "stream",
     "text": [
      "+-----------------------+--------------------------------+\n",
      "| Six different Timeslot|Average number of request of Jul|\n",
      "+-----------------------+--------------------------------+\n",
      "|            From 0 to 4|             [7079.714285714285]|\n",
      "|            From 4 to 8|             [5479.392857142857]|\n",
      "|           From 8 to 12|             [14462.32142857143]|\n",
      "|          From 12 to 16|            [17377.571428571428]|\n",
      "|          From 16 to 20|            [13580.333333333334]|\n",
      "|          From 20 to 24|            [13580.333333333334]|\n",
      "+-----------------------+--------------------------------+\n",
      "\n"
     ]
    }
   ],
   "source": [
    "df_report.show()"
   ]
  },
  {
   "cell_type": "code",
   "execution_count": 44,
   "metadata": {},
   "outputs": [],
   "source": [
    "reqs_file = logFile.withColumn('File_name', func.regexp_extract(logFile['value'],'\\\"GET (.*)HTTP',1))"
   ]
  },
  {
   "cell_type": "code",
   "execution_count": 45,
   "metadata": {},
   "outputs": [],
   "source": [
    "df_new = reqs_file.filter(reqs_file['File_name'].contains(\".html\"))"
   ]
  },
  {
   "cell_type": "code",
   "execution_count": 46,
   "metadata": {},
   "outputs": [],
   "source": [
    "reqs_df_count=df_new.groupBy('File_name').count().sort('count', ascending=False)"
   ]
  },
  {
   "cell_type": "code",
   "execution_count": 47,
   "metadata": {
    "scrolled": true
   },
   "outputs": [
    {
     "name": "stdout",
     "output_type": "stream",
     "text": [
      "+------------------------------------------------+-----+\n",
      "|File_name                                       |count|\n",
      "+------------------------------------------------+-----+\n",
      "|/ksc.html                                       |39854|\n",
      "|/shuttle/missions/missions.html                 |24745|\n",
      "|/shuttle/countdown/liftoff.html                 |21946|\n",
      "|/shuttle/missions/sts-71/mission-sts-71.html    |16619|\n",
      "|/shuttle/missions/sts-70/mission-sts-70.html    |16056|\n",
      "|/shuttle/missions/sts-71/images/images.html     |15861|\n",
      "|/history/apollo/apollo.html                     |14437|\n",
      "|/history/apollo/apollo-13/apollo-13.html        |13742|\n",
      "|/history/history.html                           |11675|\n",
      "|/shuttle/countdown/countdown.html               |8548 |\n",
      "|/shuttle/technology/sts-newsref/stsref-toc.html |7363 |\n",
      "|/shuttle/missions/sts-69/mission-sts-69.html    |6926 |\n",
      "|/software/winvn/winvn.html                      |6768 |\n",
      "|/shuttle/missions/sts-70/images/images.html     |6702 |\n",
      "|/shuttle/missions/sts-71/movies/movies.html     |6299 |\n",
      "|/shuttle/missions/sts-70/movies/movies.html     |6095 |\n",
      "|/history/apollo/apollo-13/apollo-13-info.html   |5734 |\n",
      "|/facilities/lc39a.html                          |5254 |\n",
      "|/history/apollo/apollo-11/apollo-11.html        |4963 |\n",
      "|/shuttle/countdown/lps/fr.html                  |4205 |\n",
      "+------------------------------------------------+-----+\n",
      "only showing top 20 rows\n",
      "\n"
     ]
    }
   ],
   "source": [
    "reqs_df_count.show(20,False)"
   ]
  },
  {
   "cell_type": "code",
   "execution_count": null,
   "metadata": {},
   "outputs": [],
   "source": []
  }
 ],
 "metadata": {
  "kernelspec": {
   "display_name": "Python 3",
   "language": "python",
   "name": "python3"
  },
  "language_info": {
   "codemirror_mode": {
    "name": "ipython",
    "version": 3
   },
   "file_extension": ".py",
   "mimetype": "text/x-python",
   "name": "python",
   "nbconvert_exporter": "python",
   "pygments_lexer": "ipython3",
   "version": "3.7.4"
  }
 },
 "nbformat": 4,
 "nbformat_minor": 2
}
