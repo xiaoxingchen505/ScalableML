{
 "cells": [
  {
   "cell_type": "code",
   "execution_count": 1,
   "metadata": {},
   "outputs": [],
   "source": [
    "#import findspark\n",
    "#findspark.init()\n",
    "import pyspark\n",
    "\n",
    "from pyspark.sql import SparkSession\n",
    "from pyspark.sql import Row\n",
    "import pyspark.sql.functions as func\n",
    "import matplotlib.pyplot as plt\n",
    "\n",
    "\n",
    "spark = SparkSession.builder \\\n",
    "    .master(\"local[2]\") \\\n",
    "    .appName(\"COM6012 Assignment 1 Task1\") \\\n",
    "    .getOrCreate()\n",
    "\n",
    "sc = spark.sparkContext\n"
   ]
  },
  {
   "cell_type": "code",
   "execution_count": 2,
   "metadata": {},
   "outputs": [],
   "source": [
    "logFile=spark.read.text(\"NASA_access_log_Jul95.gz\").cache()"
   ]
  },
  {
   "cell_type": "code",
   "execution_count": 3,
   "metadata": {},
   "outputs": [
    {
     "data": {
      "text/plain": [
       "1891715"
      ]
     },
     "execution_count": 3,
     "metadata": {},
     "output_type": "execute_result"
    }
   ],
   "source": [
    "logFile.count()"
   ]
  },
  {
   "cell_type": "code",
   "execution_count": 4,
   "metadata": {},
   "outputs": [],
   "source": [
    "reqs = logFile.withColumn('time', func.regexp_extract(logFile['value'],':(.*) -',1))"
   ]
  },
  {
   "cell_type": "code",
   "execution_count": 5,
   "metadata": {},
   "outputs": [],
   "source": [
    "reqs_with_data = reqs.withColumn('Date', func.regexp_extract(func.col('value'),'\\[(\\d+)\\/Jul',1))"
   ]
  },
  {
   "cell_type": "code",
   "execution_count": 6,
   "metadata": {},
   "outputs": [],
   "source": [
    "df_first_slot = reqs_with_data.filter(func.col(\"time\").between(\"00:00:00\",\"03:59:59\"))"
   ]
  },
  {
   "cell_type": "code",
   "execution_count": 7,
   "metadata": {},
   "outputs": [],
   "source": [
    "avg_1=df_first_slot.groupBy('Date').count().select(func.mean('count')).collect()[0]"
   ]
  },
  {
   "cell_type": "code",
   "execution_count": 8,
   "metadata": {},
   "outputs": [],
   "source": [
    "df_second_slot = reqs_with_data.filter(func.col(\"time\").between(\"04:00:00\",\"07:59:59\"))"
   ]
  },
  {
   "cell_type": "code",
   "execution_count": 9,
   "metadata": {},
   "outputs": [],
   "source": [
    "avg_2=df_second_slot.groupBy('Date').count().select(func.mean('count')).collect()[0]"
   ]
  },
  {
   "cell_type": "code",
   "execution_count": 10,
   "metadata": {},
   "outputs": [],
   "source": [
    "df_third_slot = reqs_with_data.filter(func.col(\"time\").between(\"08:00:00\",\"11:59:59\"))"
   ]
  },
  {
   "cell_type": "code",
   "execution_count": 11,
   "metadata": {},
   "outputs": [],
   "source": [
    "avg_3=df_third_slot.groupBy('Date').count().select(func.mean('count')).collect()[0]"
   ]
  },
  {
   "cell_type": "code",
   "execution_count": 12,
   "metadata": {},
   "outputs": [],
   "source": [
    "df_fourth_slot = reqs_with_data.filter(func.col(\"time\").between(\"12:00:00\",\"15:59:59\"))"
   ]
  },
  {
   "cell_type": "code",
   "execution_count": 13,
   "metadata": {},
   "outputs": [],
   "source": [
    "avg_4=df_fourth_slot.groupBy('Date').count().select(func.mean('count')).collect()[0]"
   ]
  },
  {
   "cell_type": "code",
   "execution_count": 14,
   "metadata": {},
   "outputs": [],
   "source": [
    "df_fifth_slot = reqs_with_data.filter(func.col(\"time\").between(\"16:00:00\",\"19:59:59\"))"
   ]
  },
  {
   "cell_type": "code",
   "execution_count": 15,
   "metadata": {},
   "outputs": [],
   "source": [
    "avg_5=df_fifth_slot.groupBy('Date').count().select(func.mean('count')).collect()[0]"
   ]
  },
  {
   "cell_type": "code",
   "execution_count": 16,
   "metadata": {},
   "outputs": [],
   "source": [
    "df_sixth_slot = reqs_with_data.filter(func.col(\"time\").between(\"20:00:00\",\"23:59:59\"))"
   ]
  },
  {
   "cell_type": "code",
   "execution_count": 17,
   "metadata": {},
   "outputs": [],
   "source": [
    "avg_6=df_fifth_slot.groupBy('Date').count().select(func.mean('count')).collect()[0]"
   ]
  },
  {
   "cell_type": "code",
   "execution_count": 47,
   "metadata": {},
   "outputs": [],
   "source": [
    "rdd_report = sc.parallelize([('0 -- 4',avg_1),\n",
    "                             ('4 -- 8',avg_2),\n",
    "                             ('8 -- 12',avg_3),\n",
    "                             ('12 -- 16',avg_4),\n",
    "                             ('16 -- 20',avg_5),\n",
    "                             ('20 -- 24',avg_6)])\n",
    "df_report = rdd_report.toDF([\"Six different Timeslot\",\"Average number of request of Jul\"])"
   ]
  },
  {
   "cell_type": "code",
   "execution_count": 48,
   "metadata": {
    "scrolled": true
   },
   "outputs": [
    {
     "name": "stdout",
     "output_type": "stream",
     "text": [
      "+----------------------+--------------------------------+\n",
      "|Six different Timeslot|Average number of request of Jul|\n",
      "+----------------------+--------------------------------+\n",
      "|                0 -- 4|             [7079.714285714285]|\n",
      "|                4 -- 8|             [5479.392857142857]|\n",
      "|               8 -- 12|             [14462.32142857143]|\n",
      "|              12 -- 16|            [17377.571428571428]|\n",
      "|              16 -- 20|            [13580.333333333334]|\n",
      "|              20 -- 24|            [13580.333333333334]|\n",
      "+----------------------+--------------------------------+\n",
      "\n"
     ]
    }
   ],
   "source": [
    "df_report.show()"
   ]
  },
  {
   "cell_type": "code",
   "execution_count": 118,
   "metadata": {},
   "outputs": [
    {
     "data": {
      "image/png": "[encoded data removed]",
      "text/plain": [
       "<Figure size 432x288 with 1 Axes>"
      ]
     },
     "metadata": {
      "needs_background": "light"
     },
     "output_type": "display_data"
    }
   ],
   "source": [
    "import numpy as np\n",
    "df_pd = df_report.toPandas()\n",
    "\n",
    "\n",
    "plt.bar(df_pd['Six different Timeslot'],df_pd['Average number of request of Jul'],align='edge',width =0.6)\n",
    "plt.title(\"Requests of each time slot\")\n",
    "plt.xlabel(\"Time slot\")\n",
    "plt.ylabel(\"Request Numbers\")\n",
    "plt.savefig('Q1A_FIG1')\n",
    "plt.show()"
   ]
  },
  {
   "cell_type": "code",
   "execution_count": 54,
   "metadata": {},
   "outputs": [],
   "source": [
    "reqs_file = logFile.withColumn('File_name', func.regexp_extract(logFile['value'],'\\\"GET (.*)HTTP',1))"
   ]
  },
  {
   "cell_type": "code",
   "execution_count": 55,
   "metadata": {},
   "outputs": [],
   "source": [
    "df_new = reqs_file.filter(reqs_file['File_name'].contains(\".html\"))"
   ]
  },
  {
   "cell_type": "code",
   "execution_count": 56,
   "metadata": {},
   "outputs": [],
   "source": [
    "reqs_df_count=df_new.groupBy('File_name').count().sort('count', ascending=False)"
   ]
  },
  {
   "cell_type": "code",
   "execution_count": 60,
   "metadata": {
    "scrolled": true
   },
   "outputs": [],
   "source": [
    "reqs_df_count = reqs_df_count.limit(20)"
   ]
  },
  {
   "cell_type": "code",
   "execution_count": 62,
   "metadata": {},
   "outputs": [
    {
     "name": "stdout",
     "output_type": "stream",
     "text": [
      "+--------------------+-----+\n",
      "|           File_name|count|\n",
      "+--------------------+-----+\n",
      "|          /ksc.html |39854|\n",
      "|/shuttle/missions...|24745|\n",
      "|/shuttle/countdow...|21946|\n",
      "|/shuttle/missions...|16619|\n",
      "|/shuttle/missions...|16056|\n",
      "|/shuttle/missions...|15861|\n",
      "|/history/apollo/a...|14437|\n",
      "|/history/apollo/a...|13742|\n",
      "|/history/history....|11675|\n",
      "|/shuttle/countdow...| 8548|\n",
      "|/shuttle/technolo...| 7363|\n",
      "|/shuttle/missions...| 6926|\n",
      "|/software/winvn/w...| 6768|\n",
      "|/shuttle/missions...| 6702|\n",
      "|/shuttle/missions...| 6299|\n",
      "|/shuttle/missions...| 6095|\n",
      "|/history/apollo/a...| 5734|\n",
      "|/facilities/lc39a...| 5254|\n",
      "|/history/apollo/a...| 4963|\n",
      "|/shuttle/countdow...| 4205|\n",
      "+--------------------+-----+\n",
      "\n"
     ]
    }
   ],
   "source": [
    "reqs_df_count.show()"
   ]
  },
  {
   "cell_type": "code",
   "execution_count": 82,
   "metadata": {},
   "outputs": [],
   "source": [
    "df_reqs= reqs_df_count.toPandas()"
   ]
  },
  {
   "cell_type": "code",
   "execution_count": 114,
   "metadata": {},
   "outputs": [
    {
     "data": {
      "image/png": "[encoded data removed]",
      "text/plain": [
       "<Figure size 432x288 with 1 Axes>"
      ]
     },
     "metadata": {
      "needs_background": "light"
     },
     "output_type": "display_data"
    }
   ],
   "source": [
    "\n",
    "plt.barh(df_reqs['File_name'],height =0.5,width = df_reqs['count'])\n",
    "plt.title(\"Top 20 Requested .html File\")\n",
    "plt.xlabel(\"Number of Request\")\n",
    "plt.ylabel(\"Requested .html file\")\n",
    "plt.show()"
   ]
  }
 ],
 "metadata": {
  "kernelspec": {
   "display_name": "Python 3",
   "language": "python",
   "name": "python3"
  },
  "language_info": {
   "codemirror_mode": {
    "name": "ipython",
    "version": 3
   },
   "file_extension": ".py",
   "mimetype": "text/x-python",
   "name": "python",
   "nbconvert_exporter": "python",
   "pygments_lexer": "ipython3",
   "version": "3.7.4"
  }
 },
 "nbformat": 4,
 "nbformat_minor": 2
}
