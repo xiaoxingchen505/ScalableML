{
 "cells": [
  {
   "cell_type": "code",
   "execution_count": 8,
   "metadata": {},
   "outputs": [],
   "source": [
    "#import findspark\n",
    "#findspark.init()\n",
    "import pyspark\n",
    "from pyspark.ml.evaluation import RegressionEvaluator\n",
    "from pyspark.sql import SparkSession\n",
    "from pyspark.sql import Row\n",
    "import pyspark.sql.functions as func\n",
    "from pyspark.ml.recommendation import ALS\n",
    "from pyspark.ml.tuning import ParamGridBuilder\n",
    "from pyspark.ml.tuning import CrossValidator\n",
    "\n",
    "spark = SparkSession.builder \\\n",
    "    .master(\"local[2]\") \\\n",
    "    .appName(\"COM6012 Assignment 1 Task2\") \\\n",
    "    .getOrCreate()\n",
    "\n",
    "sc = spark.sparkContext\n"
   ]
  },
  {
   "cell_type": "code",
   "execution_count": 9,
   "metadata": {},
   "outputs": [],
   "source": [
    "lines = spark.read.text(\"ml-25m/ratings.csv\").rdd\n",
    "parts = lines.map(lambda row: row.value.split(\",\"))\n",
    "\n",
    "header = parts.first()\n",
    "parts = parts.filter(lambda line: line != header)"
   ]
  },
  {
   "cell_type": "code",
   "execution_count": 10,
   "metadata": {},
   "outputs": [
    {
     "name": "stdout",
     "output_type": "stream",
     "text": [
      "['1', '296', '5.0', '1147880044']\n",
      "['1', '306', '3.5', '1147868817']\n",
      "['1', '307', '5.0', '1147868828']\n",
      "['1', '665', '5.0', '1147878820']\n",
      "['1', '899', '3.5', '1147868510']\n"
     ]
    }
   ],
   "source": [
    "for line in parts.take(5):\n",
    "    print(line)"
   ]
  },
  {
   "cell_type": "code",
   "execution_count": 11,
   "metadata": {},
   "outputs": [],
   "source": [
    "ratingsRDD = parts.map(lambda p: Row(userId=int(p[0]), movieId=int(p[1]),rating=float(p[2]), timestamp=int(p[3])))\n",
    "ratings = spark.createDataFrame(ratingsRDD)"
   ]
  },
  {
   "cell_type": "code",
   "execution_count": 12,
   "metadata": {},
   "outputs": [],
   "source": [
    "(training, test) = ratings.randomSplit([0.8, 0.2])"
   ]
  },
  {
   "cell_type": "code",
   "execution_count": 13,
   "metadata": {},
   "outputs": [],
   "source": [
    "als_1 = ALS(maxIter=10, regParam=0.1, userCol=\"userId\", itemCol=\"movieId\", ratingCol=\"rating\",\n",
    "          coldStartStrategy=\"drop\")"
   ]
  },
  {
   "cell_type": "code",
   "execution_count": 16,
   "metadata": {},
   "outputs": [],
   "source": [
    "evaluator = RegressionEvaluator(metricName=\"rmse\", labelCol=\"rating\",predictionCol=\"prediction\")\n",
    "\n",
    "param_grid = ParamGridBuilder()\\\n",
    "            .addGrid(als_1.rank,[5])\\\n",
    "            .addGrid(als_1.maxIter,[10])\\\n",
    "            .addGrid(als_1.regParam,[0.1])\\\n",
    "            .build()\n",
    "\n",
    "cv = CrossValidator(estimator = als_1,\n",
    "                    evaluator = evaluator,\n",
    "                    estimatorParamMaps =param_grid,\n",
    "                    numFolds = 3)\n",
    "\n",
    "model = cv.fit(training)"
   ]
  },
  {
   "cell_type": "code",
   "execution_count": 18,
   "metadata": {},
   "outputs": [
    {
     "name": "stdout",
     "output_type": "stream",
     "text": [
      "Root-mean-square error = 0.8121090305349241\n",
      "Mean Absolute Error  = 0.6239368055651031\n"
     ]
    }
   ],
   "source": [
    "predictions = model.transform(test)\n",
    "evaluator = RegressionEvaluator(metricName=\"rmse\", labelCol=\"rating\",predictionCol=\"prediction\")\n",
    "rmse_1 = evaluator.evaluate(predictions)\n",
    "evaluator = RegressionEvaluator(metricName=\"mae\", labelCol=\"rating\",predictionCol=\"prediction\")\n",
    "mae_1 = evaluator.evaluate(predictions)\n",
    "print(\"Root-mean-square error = \" + str(rmse_1))\n",
    "print(\"Mean Absolute Error  = \" + str(mae_1))"
   ]
  },
  {
   "cell_type": "code",
   "execution_count": null,
   "metadata": {},
   "outputs": [],
   "source": [
    "import math\n",
    "tr_idfs= []\n",
    "dev_idfs = []\n",
    "N_tr_idfs = len(tr_ngram_list)\n",
    "N_dev_idfs = len(dev_ngram_list)\n",
    "for ngram in vocab:\n",
    "    if ngram in df:\n",
    "        idf = math.log10(N_tr_idfs/df[ngram])\n",
    "    else:\n",
    "        idf == 0\n",
    "    tr_idfs.append(tr_idfs)\n",
    "\n",
    "for ngram in vocab:\n",
    "    if ngram in df:\n",
    "        idf = math.log10(N_dev_idfs/df[ngram])\n",
    "    else:\n",
    "        idf == 0\n",
    "    dev_idfs.append(dev_idfs)"
   ]
  }
 ],
 "metadata": {
  "kernelspec": {
   "display_name": "Python 3",
   "language": "python",
   "name": "python3"
  },
  "language_info": {
   "codemirror_mode": {
    "name": "ipython",
    "version": 3
   },
   "file_extension": ".py",
   "mimetype": "text/x-python",
   "name": "python",
   "nbconvert_exporter": "python",
   "pygments_lexer": "ipython3",
   "version": "3.7.4"
  }
 },
 "nbformat": 4,
 "nbformat_minor": 2
}
