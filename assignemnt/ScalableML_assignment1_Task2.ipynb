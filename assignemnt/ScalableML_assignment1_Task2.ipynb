{
 "cells": [
  {
   "cell_type": "code",
   "execution_count": 17,
   "metadata": {},
   "outputs": [],
   "source": [
    "#import findspark\n",
    "#findspark.init()\n",
    "import pyspark\n",
    "from pyspark.ml.evaluation import RegressionEvaluator\n",
    "from pyspark.sql import SparkSession\n",
    "from pyspark.sql import Row\n",
    "import pyspark.sql.functions as func\n",
    "from pyspark.ml.recommendation import ALS\n",
    "from pyspark.ml.tuning import ParamGridBuilder\n",
    "from pyspark.ml.tuning import CrossValidator\n",
    "from sklearn.model_selection import KFold\n",
    "import numpy as np\n",
    "\n",
    "spark = SparkSession.builder \\\n",
    "    .master(\"local[2]\") \\\n",
    "    .appName(\"COM6012 Assignment 1 Task2\") \\\n",
    "    .getOrCreate()\n",
    "\n",
    "sc = spark.sparkContext\n",
    "\n",
    "sc.setCheckpointDir('checkpoint/')\n"
   ]
  },
  {
   "cell_type": "code",
   "execution_count": 2,
   "metadata": {},
   "outputs": [],
   "source": [
    "lines = spark.read.text(\"ml-25m/ratings.csv\").rdd\n",
    "parts = lines.map(lambda row: row.value.split(\",\"))\n",
    "\n",
    "header = parts.first()\n",
    "parts = parts.filter(lambda line: line != header)"
   ]
  },
  {
   "cell_type": "code",
   "execution_count": 3,
   "metadata": {},
   "outputs": [
    {
     "name": "stdout",
     "output_type": "stream",
     "text": [
      "['1', '296', '5.0', '1147880044']\n",
      "['1', '306', '3.5', '1147868817']\n",
      "['1', '307', '5.0', '1147868828']\n",
      "['1', '665', '5.0', '1147878820']\n",
      "['1', '899', '3.5', '1147868510']\n"
     ]
    }
   ],
   "source": [
    "for line in parts.take(5):\n",
    "    print(line)"
   ]
  },
  {
   "cell_type": "code",
   "execution_count": 4,
   "metadata": {},
   "outputs": [],
   "source": [
    "ratingsRDD = parts.map(lambda p: Row(userId=int(p[0]), movieId=int(p[1]),rating=float(p[2]), timestamp=int(p[3])))\n",
    "ratings = spark.createDataFrame(ratingsRDD).cache()"
   ]
  },
  {
   "cell_type": "code",
   "execution_count": 5,
   "metadata": {},
   "outputs": [],
   "source": [
    "(fold_0, fold_1, fold_2) = ratings.randomSplit([1.0, 1.0, 1.0])\n",
    "\n",
    "data_list = [fold_0,fold_1,fold_2]\n",
    "test_list = [fold_2,fold_0,fold_1]"
   ]
  },
  {
   "cell_type": "code",
   "execution_count": 6,
   "metadata": {},
   "outputs": [],
   "source": [
    "als_1 = ALS(maxIter=10, regParam=0.1, userCol=\"userId\", itemCol=\"movieId\", ratingCol=\"rating\",\n",
    "          coldStartStrategy=\"drop\")\n",
    "als_2 = ALS(maxIter=25, regParam=0.05, userCol=\"userId\", itemCol=\"movieId\", ratingCol=\"rating\",\n",
    "          coldStartStrategy=\"drop\")\n",
    "als_3 = ALS(maxIter=50, regParam=0.005, userCol=\"userId\", itemCol=\"movieId\", ratingCol=\"rating\",\n",
    "          coldStartStrategy=\"drop\")"
   ]
  },
  {
   "cell_type": "code",
   "execution_count": 7,
   "metadata": {},
   "outputs": [],
   "source": [
    "rmse_evaluator = RegressionEvaluator(metricName=\"rmse\", labelCol=\"rating\",predictionCol=\"prediction\")\n",
    "mae_evaluator = RegressionEvaluator(metricName=\"mae\", labelCol=\"rating\",predictionCol=\"prediction\")"
   ]
  },
  {
   "cell_type": "code",
   "execution_count": 8,
   "metadata": {},
   "outputs": [],
   "source": [
    "def cross_validate(als_version):\n",
    "    rmse_list =[]\n",
    "    mae_list =[]\n",
    "    fold_j = 0\n",
    "    for fold_i in range(len(data_list)):\n",
    "        if fold_j < len(data_list)-1:\n",
    "            fold_j+= 1\n",
    "        else:\n",
    "            fold_j = 0\n",
    "        first_train = data_list[fold_i].union(data_list[fold_j])\n",
    "        model = als_version.fit(first_train)\n",
    "        predictions = model.transform(test_list[fold_i])\n",
    "        \n",
    "        rmse = rmse_evaluator.evaluate(predictions)\n",
    "        mae = mae_evaluator.evaluate(predictions)\n",
    "        \n",
    "        rmse_list.append(rmse)\n",
    "        mae_list.append(mae)\n",
    "    \n",
    "    return rmse_list, mae_list"
   ]
  },
  {
   "cell_type": "code",
   "execution_count": 9,
   "metadata": {},
   "outputs": [],
   "source": [
    "rmse_als_1, mae_als_1 = cross_validate(als_1)"
   ]
  },
  {
   "cell_type": "code",
   "execution_count": 10,
   "metadata": {},
   "outputs": [],
   "source": [
    "rmse_als_2, mae_als_2 = cross_validate(als_2)"
   ]
  },
  {
   "cell_type": "code",
   "execution_count": 11,
   "metadata": {},
   "outputs": [],
   "source": [
    "rmse_als_3, mae_als_3 = cross_validate(als_3)"
   ]
  },
  {
   "cell_type": "code",
   "execution_count": 128,
   "metadata": {},
   "outputs": [],
   "source": [
    "import statistics as stat"
   ]
  },
  {
   "cell_type": "code",
   "execution_count": 183,
   "metadata": {},
   "outputs": [],
   "source": [
    "#for calculate std and mean for rmse metric\n",
    "als1_rmse_std,als1_rmse_mean = stat.stdev(rmse_als_1),stat.mean(rmse_als_1)\n",
    "als2_rmse_std,als2_rmse_mean = stat.stdev(rmse_als_2),stat.mean(rmse_als_2)\n",
    "als3_rmse_std,als3_rmse_mean = stat.stdev(rmse_als_3),stat.mean(rmse_als_3)\n",
    "\n",
    "#for calculate std and mean for mae metric\n",
    "als1_mae_std,als1_mae_mean = stat.stdev(mae_als_1),stat.mean(mae_als_1)\n",
    "als2_mae_std,als2_mae_mean = stat.stdev(mae_als_2),stat.mean(mae_als_2)\n",
    "als3_mae_std,als3_mae_mean = stat.stdev(mae_als_3),stat.mean(mae_als_3)"
   ]
  },
  {
   "cell_type": "code",
   "execution_count": 192,
   "metadata": {},
   "outputs": [],
   "source": [
    "rdd_report = sc.parallelize([(rmse_als_1[0],mae_als_1[0],rmse_als_2[0],mae_als_2[0],rmse_als_1[0],mae_als_1[0]),\n",
    "                            (rmse_als_1[1],mae_als_1[1],rmse_als_2[1],mae_als_2[1],rmse_als_2[1],mae_als_2[1]),\n",
    "                            (rmse_als_1[2],mae_als_1[2],rmse_als_3[2],mae_als_3[2],rmse_als_3[2],mae_als_3[2]),\n",
    "                            (als1_rmse_std,als1_mae_std,als2_rmse_std,als2_mae_std,als3_rmse_std,als3_mae_std),\n",
    "                            (als1_rmse_mean,als1_mae_mean,als2_rmse_mean,als2_mae_mean,als3_rmse_mean,als3_mae_mean)])"
   ]
  },
  {
   "cell_type": "code",
   "execution_count": 195,
   "metadata": {},
   "outputs": [],
   "source": [
    "df_report = rdd_report.toDF(['ALS Version 1 RMSE Result','ALS Version 1 MAE Result'\n",
    "                             ,'ALS Version 2 RMSE Result','ALS Version 2 MAE Result'\n",
    "                            ,'ALS Version 3 RMSE Result','ALS Version 3 MAE Result'])"
   ]
  },
  {
   "cell_type": "code",
   "execution_count": 197,
   "metadata": {},
   "outputs": [],
   "source": [
    "df_pd = df_report.toPandas()"
   ]
  },
  {
   "cell_type": "code",
   "execution_count": 198,
   "metadata": {},
   "outputs": [],
   "source": [
    "df_pd.index = ['Fold1','Fold2','Fold3','Std','Mean']"
   ]
  },
  {
   "cell_type": "code",
   "execution_count": 199,
   "metadata": {},
   "outputs": [
    {
     "data": {
      "text/html": [
       "<div>\n",
       "<style scoped>\n",
       "    .dataframe tbody tr th:only-of-type {\n",
       "        vertical-align: middle;\n",
       "    }\n",
       "\n",
       "    .dataframe tbody tr th {\n",
       "        vertical-align: top;\n",
       "    }\n",
       "\n",
       "    .dataframe thead th {\n",
       "        text-align: right;\n",
       "    }\n",
       "</style>\n",
       "<table border=\"1\" class=\"dataframe\">\n",
       "  <thead>\n",
       "    <tr style=\"text-align: right;\">\n",
       "      <th></th>\n",
       "      <th>ALS Version 1 RMSE Result</th>\n",
       "      <th>ALS Version 1 MAE Result</th>\n",
       "      <th>ALS Version 2 RMSE Result</th>\n",
       "      <th>ALS Version 2 MAE Result</th>\n",
       "      <th>ALS Version 3 RMSE Result</th>\n",
       "      <th>ALS Version 3 MAE Result</th>\n",
       "    </tr>\n",
       "  </thead>\n",
       "  <tbody>\n",
       "    <tr>\n",
       "      <td>Fold1</td>\n",
       "      <td>0.808220</td>\n",
       "      <td>0.625780</td>\n",
       "      <td>0.789857</td>\n",
       "      <td>0.603656</td>\n",
       "      <td>0.808220</td>\n",
       "      <td>0.625780</td>\n",
       "    </tr>\n",
       "    <tr>\n",
       "      <td>Fold2</td>\n",
       "      <td>0.808637</td>\n",
       "      <td>0.626046</td>\n",
       "      <td>0.790064</td>\n",
       "      <td>0.603553</td>\n",
       "      <td>0.790064</td>\n",
       "      <td>0.603553</td>\n",
       "    </tr>\n",
       "    <tr>\n",
       "      <td>Fold3</td>\n",
       "      <td>0.808410</td>\n",
       "      <td>0.626003</td>\n",
       "      <td>0.818741</td>\n",
       "      <td>0.612439</td>\n",
       "      <td>0.818741</td>\n",
       "      <td>0.612439</td>\n",
       "    </tr>\n",
       "    <tr>\n",
       "      <td>Std</td>\n",
       "      <td>0.000209</td>\n",
       "      <td>0.000143</td>\n",
       "      <td>0.000406</td>\n",
       "      <td>0.000240</td>\n",
       "      <td>0.000493</td>\n",
       "      <td>0.000253</td>\n",
       "    </tr>\n",
       "    <tr>\n",
       "      <td>Mean</td>\n",
       "      <td>0.808422</td>\n",
       "      <td>0.625943</td>\n",
       "      <td>0.789734</td>\n",
       "      <td>0.603469</td>\n",
       "      <td>0.819219</td>\n",
       "      <td>0.612544</td>\n",
       "    </tr>\n",
       "  </tbody>\n",
       "</table>\n",
       "</div>"
      ],
      "text/plain": [
       "       ALS Version 1 RMSE Result  ALS Version 1 MAE Result  \\\n",
       "Fold1                   0.808220                  0.625780   \n",
       "Fold2                   0.808637                  0.626046   \n",
       "Fold3                   0.808410                  0.626003   \n",
       "Std                     0.000209                  0.000143   \n",
       "Mean                    0.808422                  0.625943   \n",
       "\n",
       "       ALS Version 2 RMSE Result  ALS Version 2 MAE Result  \\\n",
       "Fold1                   0.789857                  0.603656   \n",
       "Fold2                   0.790064                  0.603553   \n",
       "Fold3                   0.818741                  0.612439   \n",
       "Std                     0.000406                  0.000240   \n",
       "Mean                    0.789734                  0.603469   \n",
       "\n",
       "       ALS Version 3 RMSE Result  ALS Version 3 MAE Result  \n",
       "Fold1                   0.808220                  0.625780  \n",
       "Fold2                   0.790064                  0.603553  \n",
       "Fold3                   0.818741                  0.612439  \n",
       "Std                     0.000493                  0.000253  \n",
       "Mean                    0.819219                  0.612544  "
      ]
     },
     "execution_count": 199,
     "metadata": {},
     "output_type": "execute_result"
    }
   ],
   "source": [
    "df_pd"
   ]
  },
  {
   "cell_type": "code",
   "execution_count": null,
   "metadata": {},
   "outputs": [],
   "source": []
  }
 ],
 "metadata": {
  "kernelspec": {
   "display_name": "Python 3",
   "language": "python",
   "name": "python3"
  },
  "language_info": {
   "codemirror_mode": {
    "name": "ipython",
    "version": 3
   },
   "file_extension": ".py",
   "mimetype": "text/x-python",
   "name": "python",
   "nbconvert_exporter": "python",
   "pygments_lexer": "ipython3",
   "version": "3.7.4"
  }
 },
 "nbformat": 4,
 "nbformat_minor": 2
}
