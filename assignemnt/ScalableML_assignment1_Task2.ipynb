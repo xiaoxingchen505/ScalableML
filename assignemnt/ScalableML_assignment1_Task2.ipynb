{
 "cells": [
  {
   "cell_type": "code",
   "execution_count": 32,
   "metadata": {},
   "outputs": [],
   "source": [
    "#import findspark\n",
    "#findspark.init()\n",
    "import pyspark\n",
    "from pyspark.ml.evaluation import RegressionEvaluator\n",
    "from pyspark.sql import SparkSession\n",
    "from pyspark.sql import Row\n",
    "import pyspark.sql.functions as func\n",
    "from pyspark.ml.recommendation import ALS\n",
    "from pyspark.ml.tuning import ParamGridBuilder\n",
    "from pyspark.ml.tuning import CrossValidator\n",
    "from sklearn.model_selection import KFold\n",
    "\n",
    "spark = SparkSession.builder \\\n",
    "    .master(\"local[2]\") \\\n",
    "    .appName(\"COM6012 Assignment 1 Task2\") \\\n",
    "    .getOrCreate()\n",
    "\n",
    "sc = spark.sparkContext\n"
   ]
  },
  {
   "cell_type": "code",
   "execution_count": 33,
   "metadata": {},
   "outputs": [],
   "source": [
    "lines = spark.read.text(\"ml-25m/ratings.csv\").rdd\n",
    "parts = lines.map(lambda row: row.value.split(\",\"))\n",
    "\n",
    "header = parts.first()\n",
    "parts = parts.filter(lambda line: line != header)"
   ]
  },
  {
   "cell_type": "code",
   "execution_count": 34,
   "metadata": {},
   "outputs": [
    {
     "name": "stdout",
     "output_type": "stream",
     "text": [
      "['1', '296', '5.0', '1147880044']\n",
      "['1', '306', '3.5', '1147868817']\n",
      "['1', '307', '5.0', '1147868828']\n",
      "['1', '665', '5.0', '1147878820']\n",
      "['1', '899', '3.5', '1147868510']\n"
     ]
    }
   ],
   "source": [
    "for line in parts.take(5):\n",
    "    print(line)"
   ]
  },
  {
   "cell_type": "code",
   "execution_count": 35,
   "metadata": {},
   "outputs": [],
   "source": [
    "ratingsRDD = parts.map(lambda p: Row(userId=int(p[0]), movieId=int(p[1]),rating=float(p[2]), timestamp=int(p[3])))\n",
    "ratings = spark.createDataFrame(ratingsRDD)"
   ]
  },
  {
   "cell_type": "code",
   "execution_count": 36,
   "metadata": {},
   "outputs": [],
   "source": [
    "(fold_0, fold_1, fold_2) = ratings.randomSplit([1.0, 1.0, 1.0])\n",
    "\n",
    "data_list = [fold_0,fold_1,fold_2]\n",
    "test_list = [fold_2,fold_0,fold_1]"
   ]
  },
  {
   "cell_type": "code",
   "execution_count": 43,
   "metadata": {},
   "outputs": [],
   "source": [
    "als_1 = ALS(rank=5,maxIter=10, regParam=0.1, userCol=\"userId\", itemCol=\"movieId\", ratingCol=\"rating\",\n",
    "          coldStartStrategy=\"drop\")\n",
    "als_2 = ALS(rank=40,maxIter=100, regParam=0.05, userCol=\"userId\", itemCol=\"movieId\", ratingCol=\"rating\",\n",
    "          coldStartStrategy=\"drop\")\n",
    "als_3 = ALS(rank=80,maxIter=250, regParam=1.5, userCol=\"userId\", itemCol=\"movieId\", ratingCol=\"rating\",\n",
    "          coldStartStrategy=\"drop\")"
   ]
  },
  {
   "cell_type": "code",
   "execution_count": 44,
   "metadata": {},
   "outputs": [],
   "source": [
    "rmse_evaluator = RegressionEvaluator(metricName=\"rmse\", labelCol=\"rating\",predictionCol=\"prediction\")\n",
    "mae_evaluator = RegressionEvaluator(metricName=\"mae\", labelCol=\"rating\",predictionCol=\"prediction\")"
   ]
  },
  {
   "cell_type": "code",
   "execution_count": 39,
   "metadata": {},
   "outputs": [],
   "source": [
    "def cross_validate(als_version):\n",
    "    rmse_list =[]\n",
    "    mae_list =[]\n",
    "    fold_j = 0\n",
    "    for fold_i in range(len(data_list)):\n",
    "        if fold_j < len(data_list)-1:\n",
    "            fold_j+= 1\n",
    "        else:\n",
    "            fold_j = 0\n",
    "        first_train = data_list[fold_i].union(data_list[fold_j])\n",
    "        model = als_version.fit(first_train)\n",
    "        predictions = model.transform(test_list[fold_i])\n",
    "        \n",
    "        rmse = rmse_evaluator.evaluate(predictions)\n",
    "        mae = mae_evaluator.evaluate(predictions)\n",
    "        \n",
    "        rmse_list.append(rmse)\n",
    "        mae_list.append(mae)\n",
    "    \n",
    "    return rmse_list, mae_list"
   ]
  },
  {
   "cell_type": "code",
   "execution_count": 40,
   "metadata": {},
   "outputs": [],
   "source": [
    "rmse_als_1, mae_als_1 = cross_validate(als_1)\n",
    "rmse_als_2, mae_als_2 = cross_validate(als_2)\n",
    "rmse_als_3, mae_als_3 = cross_validate(als_3)"
   ]
  },
  {
   "cell_type": "code",
   "execution_count": 41,
   "metadata": {},
   "outputs": [
    {
     "data": {
      "text/plain": [
       "[0.8038265509801306, 0.8047327577509259, 0.8042296943178026]"
      ]
     },
     "execution_count": 41,
     "metadata": {},
     "output_type": "execute_result"
    }
   ],
   "source": [
    "rmse_als_1"
   ]
  },
  {
   "cell_type": "code",
   "execution_count": 42,
   "metadata": {},
   "outputs": [
    {
     "data": {
      "text/plain": [
       "[0.6192979239873788, 0.6199056936852945, 0.6195750478130315]"
      ]
     },
     "execution_count": 42,
     "metadata": {},
     "output_type": "execute_result"
    }
   ],
   "source": [
    "mae_als_1"
   ]
  },
  {
   "cell_type": "code",
   "execution_count": null,
   "metadata": {},
   "outputs": [],
   "source": []
  }
 ],
 "metadata": {
  "kernelspec": {
   "display_name": "Python 3",
   "language": "python",
   "name": "python3"
  },
  "language_info": {
   "codemirror_mode": {
    "name": "ipython",
    "version": 3
   },
   "file_extension": ".py",
   "mimetype": "text/x-python",
   "name": "python",
   "nbconvert_exporter": "python",
   "pygments_lexer": "ipython3",
   "version": "3.7.4"
  }
 },
 "nbformat": 4,
 "nbformat_minor": 2
}
