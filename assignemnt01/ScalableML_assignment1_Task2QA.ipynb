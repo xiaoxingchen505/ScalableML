{
 "cells": [
  {
   "cell_type": "code",
   "execution_count": 38,
   "metadata": {},
   "outputs": [],
   "source": [
    "#import findspark\n",
    "#findspark.init()\n",
    "import pyspark\n",
    "from pyspark.ml.evaluation import RegressionEvaluator\n",
    "from pyspark.sql import SparkSession\n",
    "from pyspark.sql import Row\n",
    "import pyspark.sql.functions as func\n",
    "from pyspark.ml.recommendation import ALS\n",
    "from pyspark.ml.tuning import ParamGridBuilder\n",
    "from pyspark.ml.tuning import CrossValidator\n",
    "from sklearn.model_selection import KFold\n",
    "import numpy as np\n",
    "import matplotlib.pyplot as plt\n",
    "\n",
    "spark = SparkSession.builder \\\n",
    "    .master(\"local[2]\") \\\n",
    "    .appName(\"COM6012 Assignment 1 Task2\") \\\n",
    "    .config(\"spark.driver.memory\", \"8g\")\\\n",
    "    .getOrCreate()\n",
    "\n",
    "sc = spark.sparkContext\n",
    "\n",
    "sc.setCheckpointDir('checkpoint/')\n"
   ]
  },
  {
   "cell_type": "code",
   "execution_count": 2,
   "metadata": {},
   "outputs": [],
   "source": [
    "lines = spark.read.text(\"ml-25m/ratings.csv\").rdd\n",
    "parts = lines.map(lambda row: row.value.split(\",\"))\n",
    "\n",
    "header = parts.first()\n",
    "parts = parts.filter(lambda line: line != header)"
   ]
  },
  {
   "cell_type": "code",
   "execution_count": 3,
   "metadata": {},
   "outputs": [],
   "source": [
    "ratingsRDD = parts.map(lambda p: Row(userId=int(p[0]), movieId=int(p[1]),rating=float(p[2]), timestamp=int(p[3])))\n",
    "ratings = spark.createDataFrame(ratingsRDD).cache()"
   ]
  },
  {
   "cell_type": "code",
   "execution_count": 4,
   "metadata": {},
   "outputs": [],
   "source": [
    "(fold_0, fold_1, fold_2) = ratings.randomSplit([1.0, 1.0, 1.0],seed=1234)\n",
    "\n",
    "data_list = [fold_0,fold_1,fold_2]\n",
    "test_list = [fold_2,fold_0,fold_1]"
   ]
  },
  {
   "cell_type": "code",
   "execution_count": 5,
   "metadata": {},
   "outputs": [],
   "source": [
    "als_1 = ALS(rank=10,maxIter=10, regParam=0.1, userCol=\"userId\", itemCol=\"movieId\", ratingCol=\"rating\",\n",
    "          coldStartStrategy=\"drop\")\n",
    "als_2 = ALS(rank=25, maxIter=50, regParam=0.05, userCol=\"userId\", itemCol=\"movieId\", ratingCol=\"rating\",\n",
    "          coldStartStrategy=\"drop\")\n",
    "als_3 = ALS(rank=50,maxIter=100, regParam=0.005, userCol=\"userId\", itemCol=\"movieId\", ratingCol=\"rating\",\n",
    "          coldStartStrategy=\"drop\")"
   ]
  },
  {
   "cell_type": "code",
   "execution_count": 6,
   "metadata": {},
   "outputs": [],
   "source": [
    "rmse_evaluator = RegressionEvaluator(metricName=\"rmse\", labelCol=\"rating\",predictionCol=\"prediction\")\n",
    "mae_evaluator = RegressionEvaluator(metricName=\"mae\", labelCol=\"rating\",predictionCol=\"prediction\")"
   ]
  },
  {
   "cell_type": "code",
   "execution_count": 7,
   "metadata": {},
   "outputs": [],
   "source": [
    "def cross_validate(als_version):\n",
    "    dfItemFactors_list = []\n",
    "    rmse_list =[]\n",
    "    mae_list =[]\n",
    "    fold_j = 0\n",
    "    for fold_i in range(len(data_list)):\n",
    "        if fold_j < len(data_list)-1:\n",
    "            fold_j+= 1\n",
    "        else:\n",
    "            fold_j = 0\n",
    "        first_train = data_list[fold_i].union(data_list[fold_j])\n",
    "        model = als_version.fit(first_train)\n",
    "        predictions = model.transform(test_list[fold_i])\n",
    "        \n",
    "        rmse = rmse_evaluator.evaluate(predictions)\n",
    "        mae = mae_evaluator.evaluate(predictions)\n",
    "        \n",
    "        rmse_list.append(rmse)\n",
    "        mae_list.append(mae)\n",
    "    \n",
    "    return rmse_list, mae_list"
   ]
  },
  {
   "cell_type": "code",
   "execution_count": 8,
   "metadata": {},
   "outputs": [],
   "source": [
    "rmse_als_1, mae_als_1 = cross_validate(als_1)"
   ]
  },
  {
   "cell_type": "code",
   "execution_count": 9,
   "metadata": {},
   "outputs": [],
   "source": [
    "rmse_als_2, mae_als_2 = cross_validate(als_2)"
   ]
  },
  {
   "cell_type": "code",
   "execution_count": 10,
   "metadata": {},
   "outputs": [],
   "source": [
    "rmse_als_3, mae_als_3 = cross_validate(als_3)"
   ]
  },
  {
   "cell_type": "code",
   "execution_count": 11,
   "metadata": {},
   "outputs": [],
   "source": [
    "import statistics as stat"
   ]
  },
  {
   "cell_type": "code",
   "execution_count": 12,
   "metadata": {},
   "outputs": [],
   "source": [
    "#for calculate std and mean for rmse metric\n",
    "als1_rmse_std,als1_rmse_mean = stat.stdev(rmse_als_1),stat.mean(rmse_als_1)\n",
    "als2_rmse_std,als2_rmse_mean = stat.stdev(rmse_als_2),stat.mean(rmse_als_2)\n",
    "als3_rmse_std,als3_rmse_mean = stat.stdev(rmse_als_3),stat.mean(rmse_als_3)\n",
    "\n",
    "#for calculate std and mean for mae metric\n",
    "als1_mae_std,als1_mae_mean = stat.stdev(mae_als_1),stat.mean(mae_als_1)\n",
    "als2_mae_std,als2_mae_mean = stat.stdev(mae_als_2),stat.mean(mae_als_2)\n",
    "als3_mae_std,als3_mae_mean = stat.stdev(mae_als_3),stat.mean(mae_als_3)"
   ]
  },
  {
   "cell_type": "code",
   "execution_count": 20,
   "metadata": {},
   "outputs": [],
   "source": [
    "rdd_report = sc.parallelize([(rmse_als_1[0],mae_als_1[0],rmse_als_2[0],mae_als_2[0],rmse_als_3[0],mae_als_3[0]),\n",
    "                            (rmse_als_1[1],mae_als_1[1],rmse_als_2[1],mae_als_2[1],rmse_als_3[1],mae_als_3[1]),\n",
    "                            (rmse_als_1[2],mae_als_1[2],rmse_als_2[2],mae_als_2[2],rmse_als_3[2],mae_als_3[2]),\n",
    "                            (als1_rmse_std,als1_mae_std,als2_rmse_std,als2_mae_std,als3_rmse_std,als3_mae_std),\n",
    "                            (als1_rmse_mean,als1_mae_mean,als2_rmse_mean,als2_mae_mean,als3_rmse_mean,als3_mae_mean)])"
   ]
  },
  {
   "cell_type": "code",
   "execution_count": 21,
   "metadata": {},
   "outputs": [],
   "source": [
    "df_report = rdd_report.toDF(['ALS Version 1 RMSE Result','ALS Version 1 MAE Result'\n",
    "                             ,'ALS Version 2 RMSE Result','ALS Version 2 MAE Result'\n",
    "                            ,'ALS Version 3 RMSE Result','ALS Version 3 MAE Result'])"
   ]
  },
  {
   "cell_type": "code",
   "execution_count": 22,
   "metadata": {},
   "outputs": [],
   "source": [
    "df_pd = df_report.toPandas()"
   ]
  },
  {
   "cell_type": "code",
   "execution_count": 26,
   "metadata": {},
   "outputs": [
    {
     "name": "stdout",
     "output_type": "stream",
     "text": [
      "root\n",
      " |-- ALS Version 1 RMSE Result: double (nullable = true)\n",
      " |-- ALS Version 1 MAE Result: double (nullable = true)\n",
      " |-- ALS Version 2 RMSE Result: double (nullable = true)\n",
      " |-- ALS Version 2 MAE Result: double (nullable = true)\n",
      " |-- ALS Version 3 RMSE Result: double (nullable = true)\n",
      " |-- ALS Version 3 MAE Result: double (nullable = true)\n",
      "\n"
     ]
    }
   ],
   "source": [
    "df_report.printSchema()"
   ]
  },
  {
   "cell_type": "code",
   "execution_count": 16,
   "metadata": {},
   "outputs": [],
   "source": [
    "df_pd.index = ['Fold1','Fold2','Fold3','Std','Mean']"
   ]
  },
  {
   "cell_type": "code",
   "execution_count": 17,
   "metadata": {
    "scrolled": true
   },
   "outputs": [
    {
     "name": "stdout",
     "output_type": "stream",
     "text": [
      "       ALS Version 1 RMSE Result  ALS Version 1 MAE Result  \\\n",
      "Fold1                   0.805640                  0.621416   \n",
      "Fold2                   0.805427                  0.621305   \n",
      "Fold3                   0.805112                  0.620761   \n",
      "Std                     0.000265                  0.000350   \n",
      "Mean                    0.805393                  0.621161   \n",
      "\n",
      "       ALS Version 2 RMSE Result  ALS Version 2 MAE Result  \\\n",
      "Fold1                   0.774958                  0.590067   \n",
      "Fold2                   0.775099                  0.590257   \n",
      "Fold3                   0.774690                  0.589771   \n",
      "Std                     0.000208                  0.000245   \n",
      "Mean                    0.774916                  0.590032   \n",
      "\n",
      "       ALS Version 3 RMSE Result  ALS Version 3 MAE Result  \n",
      "Fold1                   0.910658                  0.674270  \n",
      "Fold2                   0.910426                  0.674408  \n",
      "Fold3                   0.910633                  0.674151  \n",
      "Std                     0.000127                  0.000129  \n",
      "Mean                    0.910572                  0.674276  \n"
     ]
    }
   ],
   "source": [
    "print(df_pd)"
   ]
  },
  {
   "cell_type": "code",
   "execution_count": 36,
   "metadata": {},
   "outputs": [
    {
     "data": {
      "text/html": [
       "<div>\n",
       "<style scoped>\n",
       "    .dataframe tbody tr th:only-of-type {\n",
       "        vertical-align: middle;\n",
       "    }\n",
       "\n",
       "    .dataframe tbody tr th {\n",
       "        vertical-align: top;\n",
       "    }\n",
       "\n",
       "    .dataframe thead th {\n",
       "        text-align: right;\n",
       "    }\n",
       "</style>\n",
       "<table border=\"1\" class=\"dataframe\">\n",
       "  <thead>\n",
       "    <tr style=\"text-align: right;\">\n",
       "      <th></th>\n",
       "      <th>ALS Version 1 RMSE Result</th>\n",
       "      <th>ALS Version 1 MAE Result</th>\n",
       "      <th>ALS Version 2 RMSE Result</th>\n",
       "      <th>ALS Version 2 MAE Result</th>\n",
       "      <th>ALS Version 3 RMSE Result</th>\n",
       "      <th>ALS Version 3 MAE Result</th>\n",
       "    </tr>\n",
       "  </thead>\n",
       "  <tbody>\n",
       "    <tr>\n",
       "      <td>0</td>\n",
       "      <td>0.805640</td>\n",
       "      <td>0.621416</td>\n",
       "      <td>0.774958</td>\n",
       "      <td>0.590067</td>\n",
       "      <td>0.910658</td>\n",
       "      <td>0.674270</td>\n",
       "    </tr>\n",
       "    <tr>\n",
       "      <td>1</td>\n",
       "      <td>0.805427</td>\n",
       "      <td>0.621305</td>\n",
       "      <td>0.775099</td>\n",
       "      <td>0.590257</td>\n",
       "      <td>0.910426</td>\n",
       "      <td>0.674408</td>\n",
       "    </tr>\n",
       "    <tr>\n",
       "      <td>2</td>\n",
       "      <td>0.805112</td>\n",
       "      <td>0.620761</td>\n",
       "      <td>0.774690</td>\n",
       "      <td>0.589771</td>\n",
       "      <td>0.910633</td>\n",
       "      <td>0.674151</td>\n",
       "    </tr>\n",
       "    <tr>\n",
       "      <td>3</td>\n",
       "      <td>0.000265</td>\n",
       "      <td>0.000350</td>\n",
       "      <td>0.000208</td>\n",
       "      <td>0.000245</td>\n",
       "      <td>0.000127</td>\n",
       "      <td>0.000129</td>\n",
       "    </tr>\n",
       "    <tr>\n",
       "      <td>4</td>\n",
       "      <td>0.805393</td>\n",
       "      <td>0.621161</td>\n",
       "      <td>0.774916</td>\n",
       "      <td>0.590032</td>\n",
       "      <td>0.910572</td>\n",
       "      <td>0.674276</td>\n",
       "    </tr>\n",
       "  </tbody>\n",
       "</table>\n",
       "</div>"
      ],
      "text/plain": [
       "   ALS Version 1 RMSE Result  ALS Version 1 MAE Result  \\\n",
       "0                   0.805640                  0.621416   \n",
       "1                   0.805427                  0.621305   \n",
       "2                   0.805112                  0.620761   \n",
       "3                   0.000265                  0.000350   \n",
       "4                   0.805393                  0.621161   \n",
       "\n",
       "   ALS Version 2 RMSE Result  ALS Version 2 MAE Result  \\\n",
       "0                   0.774958                  0.590067   \n",
       "1                   0.775099                  0.590257   \n",
       "2                   0.774690                  0.589771   \n",
       "3                   0.000208                  0.000245   \n",
       "4                   0.774916                  0.590032   \n",
       "\n",
       "   ALS Version 3 RMSE Result  ALS Version 3 MAE Result  \n",
       "0                   0.910658                  0.674270  \n",
       "1                   0.910426                  0.674408  \n",
       "2                   0.910633                  0.674151  \n",
       "3                   0.000127                  0.000129  \n",
       "4                   0.910572                  0.674276  "
      ]
     },
     "execution_count": 36,
     "metadata": {},
     "output_type": "execute_result"
    }
   ],
   "source": [
    "df_pd"
   ]
  },
  {
   "cell_type": "code",
   "execution_count": 77,
   "metadata": {},
   "outputs": [
    {
     "data": {
      "text/plain": [
       "<BarContainer object of 6 artists>"
      ]
     },
     "execution_count": 77,
     "metadata": {},
     "output_type": "execute_result"
    },
    {
     "data": {
      "image/png": "[encoded data removed]",
      "text/plain": [
       "<Figure size 864x720 with 2 Axes>"
      ]
     },
     "metadata": {
      "needs_background": "light"
     },
     "output_type": "display_data"
    }
   ],
   "source": [
    "std_list=[als1_rmse_std,als1_mae_std,als2_rmse_std,als2_mae_std,als3_rmse_std,als3_mae_std]\n",
    "mean_list =[als1_rmse_mean,als1_mae_mean,als2_rmse_mean,als2_mae_mean,als3_rmse_mean,als3_mae_mean]\n",
    "\n",
    "x = np.arange(6)\n",
    "plt.figure(figsize=(12,10))\n",
    "plt.subplot(211)\n",
    "plt.yticks(np.arange(6), ('als1_rmse_std','als1_mae_std','als2_rmse_std','als2_mae_std','als3_rmse_std','als3_mae_std'))\n",
    "plt.title(\"The standard deviation of each als\")\n",
    "plt.xlabel(\"Std value\")\n",
    "plt.barh(np.array(x),np.array(std_list),color=['firebrick'])\n",
    "plt.subplots_adjust(hspace = 0.5)\n",
    "\n",
    "plt.subplot(212)\n",
    "plt.yticks(np.arange(6), ('als1_rmse_mean','als1_mae_mean','als2_rmse_mean','als2_mae_mean','als3_rmse_mean','als3_mae_mean'))\n",
    "plt.title(\"The mean of each als\")\n",
    "plt.xlabel(\"Mean value\")\n",
    "plt.barh(np.array(x),np.array(mean_list),color=['dodgerblue'])"
   ]
  },
  {
   "cell_type": "code",
   "execution_count": null,
   "metadata": {},
   "outputs": [],
   "source": []
  }
 ],
 "metadata": {
  "kernelspec": {
   "display_name": "Python 3",
   "language": "python",
   "name": "python3"
  },
  "language_info": {
   "codemirror_mode": {
    "name": "ipython",
    "version": 3
   },
   "file_extension": ".py",
   "mimetype": "text/x-python",
   "name": "python",
   "nbconvert_exporter": "python",
   "pygments_lexer": "ipython3",
   "version": "3.7.4"
  }
 },
 "nbformat": 4,
 "nbformat_minor": 2
}
